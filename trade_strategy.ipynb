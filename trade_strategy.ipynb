{
 "cells": [
  {
   "cell_type": "code",
   "execution_count": 1,
   "metadata": {},
   "outputs": [],
   "source": [
    "import pandas as pd\n",
    "import numpy as np\n",
    "from random import seed\n",
    "from random import randint\n",
    "import pandas as pd\n",
    "import glob\n",
    "import seaborn as sns\n",
    "sns.set_style(\"white\")\n",
    "import matplotlib.pyplot as plt\n",
    "import warnings"
   ]
  },
  {
   "cell_type": "code",
   "execution_count": 587,
   "metadata": {},
   "outputs": [],
   "source": [
    "\n",
    "warnings.filterwarnings('ignore')"
   ]
  },
  {
   "cell_type": "code",
   "execution_count": 582,
   "metadata": {},
   "outputs": [],
   "source": [
    "warnings.filterwarnings(action='once')"
   ]
  },
  {
   "cell_type": "markdown",
   "metadata": {},
   "source": [
    "# Read data"
   ]
  },
  {
   "cell_type": "code",
   "execution_count": 2,
   "metadata": {
    "scrolled": true
   },
   "outputs": [],
   "source": [
    "root_dir = 'D:\\\\01 Machine Learning\\\\Bookie\\\\data'\n",
    "data_list = ['D1', 'E0', 'F1', 'I1', 'SP1']\n",
    "# '2009-2010' hdc is unreliable\n",
    "season_list_19 = ['2005-2006', '2006-2007', '2007-2008', '2008-2009', '2010-2011', '2011-2012', '2012-2013', '2013-2014', '2014-2015', '2015-2016', '2016-2017', '2017-2018', '2018-2019']\n",
    "season_list_20 = ['2019-2020']\n",
    "season_list_all = season_list_19 + season_list_20\n",
    "col_list_19 = ['Date', 'HomeTeam', 'AwayTeam', 'FTR', 'B365H', 'B365D', 'B365A', 'FTHG', 'FTAG', 'BbAHh', 'BbAvAHH', 'BbAvAHA']\n",
    "col_list_20 = ['Date', 'HomeTeam', 'AwayTeam', 'FTR', 'B365H', 'B365D', 'B365A', 'FTHG', 'FTAG', 'AHCh', 'AvgCAHH', 'AvgCAHA']\n",
    "\n",
    "season_date_begin = ['2005-07-01', '2006-07-01', '2007-07-01', '2008-07-01', '2010-07-01', '2011-07-01', '2012-07-01', '2013-07-01', '2014-07-01', '2015-07-01', '2016-07-01', '2017-07-01', '2018-07-01', '2019-07-01']\n",
    "season_date_end   = ['2006-06-30', '2007-06-30', '2008-06-30', '2009-06-30', '2011-06-30', '2012-06-30', '2013-06-30', '2014-06-30', '2015-06-30', '2016-06-30', '2017-06-30', '2018-06-30', '2019-06-30', '2020-06-30']\n",
    "\n",
    "\n",
    "df_19 = pd.DataFrame()\n",
    "df_20 = pd.DataFrame()\n",
    "for league in data_list:\n",
    "    for season_19 in season_list_19:\n",
    "        for data_19 in glob.glob('{}\\\\{}\\\\{}.csv'.format(root_dir, season_19, league)):\n",
    "            df_19_tmp = pd.read_csv(data_19, index_col = 0, dayfirst=True, parse_dates = True, usecols = col_list_19)\n",
    "            df_19_tmp['season'] = season_19\n",
    "            df_19_tmp['league'] = league\n",
    "            df_19 = df_19.append(df_19_tmp)\n",
    "    for season_20 in season_list_20:\n",
    "        for data_20 in glob.glob('{}\\\\{}\\\\{}.csv'.format(root_dir, season_20, league)):\n",
    "            df_20_tmp = pd.read_csv(data_20, index_col = 0, dayfirst=True, parse_dates = True, usecols = col_list_20)\n",
    "            df_20_tmp['season'] = season_20\n",
    "            df_20_tmp['league'] = league\n",
    "            df_20 = df_20.append(df_20_tmp)\n",
    "\n",
    "df_20 = df_20.rename(columns={'AHCh' : 'BbAHh', 'AvgCAHH' : 'BbAvAHH', 'AvgCAHA' : 'BbAvAHA'})\n",
    "           \n",
    "df_all = df_19.append(df_20)            \n",
    "\n",
    "#df_all = df_all.sort_values(by = ['league', 'Date'])\n",
    "\n",
    "# for season in season_list:\n",
    "#     for league in glob.glob('{}\\\\{}\\\\D1.csv'.format(root_dir, season)):\n",
    "#         df_tmp = pd.read_csv(league, index_col = 0, parse_dates = True)\n",
    "#         if not set(col_list).issubset(df_tmp.columns):\n",
    "#             print('Check' + str(season))"
   ]
  },
  {
   "cell_type": "code",
   "execution_count": null,
   "metadata": {},
   "outputs": [],
   "source": [
    "df_all.head()"
   ]
  },
  {
   "cell_type": "code",
   "execution_count": null,
   "metadata": {},
   "outputs": [],
   "source": [
    "df_all.shape"
   ]
  },
  {
   "cell_type": "code",
   "execution_count": null,
   "metadata": {},
   "outputs": [],
   "source": [
    "df_all['league'].value_counts()"
   ]
  },
  {
   "cell_type": "code",
   "execution_count": null,
   "metadata": {
    "scrolled": true
   },
   "outputs": [],
   "source": [
    "df_all['BbAHh'].where(df_all.BbAHh == 0).groupby(df_all.season).count()"
   ]
  },
  {
   "cell_type": "code",
   "execution_count": null,
   "metadata": {
    "scrolled": true
   },
   "outputs": [],
   "source": [
    "df_all['FTR'].where(df_all.FTR == 'H').groupby(df_all.season).count()/df_all['FTR'].groupby(df_all.season).count()"
   ]
  },
  {
   "cell_type": "code",
   "execution_count": null,
   "metadata": {
    "scrolled": false
   },
   "outputs": [],
   "source": [
    "df_all['FTR'].where(df_all.FTR == 'A').groupby(df_all.season).count()/df_all['FTR'].groupby(df_all.season).count()"
   ]
  },
  {
   "cell_type": "code",
   "execution_count": null,
   "metadata": {
    "scrolled": true
   },
   "outputs": [],
   "source": [
    "df_all['FTR'].where(df_all.FTR == 'D').groupby(df_all.season).count()/df_all['FTR'].groupby(df_all.season).count()"
   ]
  },
  {
   "cell_type": "code",
   "execution_count": null,
   "metadata": {},
   "outputs": [],
   "source": [
    "df_all['FTR'].groupby(df_all.season).count()"
   ]
  },
  {
   "cell_type": "markdown",
   "metadata": {},
   "source": [
    "## Home / Away"
   ]
  },
  {
   "cell_type": "code",
   "execution_count": 5,
   "metadata": {},
   "outputs": [
    {
     "data": {
      "text/plain": [
       "HomeTeam    0\n",
       "AwayTeam    0\n",
       "FTHG        0\n",
       "FTAG        0\n",
       "FTR         0\n",
       "B365H       0\n",
       "B365D       0\n",
       "B365A       0\n",
       "BbAHh       0\n",
       "BbAvAHH     0\n",
       "BbAvAHA     0\n",
       "season      0\n",
       "league      0\n",
       "dtype: int64"
      ]
     },
     "execution_count": 5,
     "metadata": {},
     "output_type": "execute_result"
    }
   ],
   "source": [
    "df_all.isna().sum()"
   ]
  },
  {
   "cell_type": "code",
   "execution_count": 4,
   "metadata": {},
   "outputs": [],
   "source": [
    "df_all = df_all.dropna()"
   ]
  },
  {
   "cell_type": "code",
   "execution_count": null,
   "metadata": {},
   "outputs": [],
   "source": [
    "df_all.shape"
   ]
  },
  {
   "cell_type": "code",
   "execution_count": 6,
   "metadata": {},
   "outputs": [],
   "source": [
    "df_all['goal_diff'] = df_all.FTHG - df_all.FTAG + df_all.BbAHh"
   ]
  },
  {
   "cell_type": "code",
   "execution_count": 7,
   "metadata": {},
   "outputs": [],
   "source": [
    "df_all['result_ha_hdc'] = np.NaN"
   ]
  },
  {
   "cell_type": "code",
   "execution_count": 8,
   "metadata": {
    "scrolled": true
   },
   "outputs": [],
   "source": [
    "df_all.loc[df_all['goal_diff'] > 0, 'result_ha_hdc'] = 1 # hdc home win\n",
    "df_all.loc[df_all['goal_diff'] < 0, 'result_ha_hdc'] = 0 # hdc away win\n",
    "df_all.loc[df_all['goal_diff'] == 0, 'result_ha_hdc'] = 2 # hdc draw"
   ]
  },
  {
   "cell_type": "code",
   "execution_count": 9,
   "metadata": {},
   "outputs": [
    {
     "name": "stdout",
     "output_type": "stream",
     "text": [
      "Home/Away coding OK\n"
     ]
    }
   ],
   "source": [
    "if df_all['result_ha_hdc'].value_counts().sum() == df_all['goal_diff'].count():\n",
    "    print('Home/Away coding OK')"
   ]
  },
  {
   "cell_type": "code",
   "execution_count": 10,
   "metadata": {},
   "outputs": [],
   "source": [
    "# 1: home win ; 0: away win, 2: draw\n",
    "df_all['result_match'] = np.NaN\n",
    "df_all['result_match'] = np.where( df_all['FTR'] == 'H', 1, np.where( df_all['FTR'] == 'A', 0, 2 ) )"
   ]
  },
  {
   "cell_type": "code",
   "execution_count": null,
   "metadata": {},
   "outputs": [],
   "source": [
    "# df_all['result_ha_hdc'] = np.where(df_all.FTHG - df_all.FTAG + df_all.BbAHh > 0, 1, np.where(df_all.FTHG - df_all.FTAG + df_all.BbAHh < 0, 2, 3))"
   ]
  },
  {
   "cell_type": "code",
   "execution_count": null,
   "metadata": {
    "scrolled": true
   },
   "outputs": [],
   "source": [
    "df_all.head(10)"
   ]
  },
  {
   "cell_type": "code",
   "execution_count": null,
   "metadata": {},
   "outputs": [],
   "source": [
    "df_all['result_ha_hdc'].value_counts()"
   ]
  },
  {
   "cell_type": "code",
   "execution_count": null,
   "metadata": {},
   "outputs": [],
   "source": [
    "# Filter level\n",
    "# df_all = df_all.loc[df_all.result_ha_hdc < 3]\n"
   ]
  },
  {
   "cell_type": "code",
   "execution_count": null,
   "metadata": {
    "scrolled": false
   },
   "outputs": [],
   "source": [
    "df_all['result_ha_hdc'].where((df_all.league == 'D1') & (df_all.BbAHh > 0)) .groupby([df_all.season]).value_counts()"
   ]
  },
  {
   "cell_type": "code",
   "execution_count": null,
   "metadata": {},
   "outputs": [],
   "source": [
    "df_all['result_ha_hdc'].where((df_all.league == 'D1') & (df_all.BbAHh < 0)) .groupby([df_all.season]).value_counts()"
   ]
  },
  {
   "cell_type": "code",
   "execution_count": null,
   "metadata": {},
   "outputs": [],
   "source": [
    "df_all['result_ha_hdc'].where((df_all.league == 'D1') & (df_all.BbAHh == 0)) .groupby([df_all.season]).value_counts()"
   ]
  },
  {
   "cell_type": "code",
   "execution_count": null,
   "metadata": {},
   "outputs": [],
   "source": []
  },
  {
   "cell_type": "markdown",
   "metadata": {},
   "source": [
    "## Up/Down"
   ]
  },
  {
   "cell_type": "code",
   "execution_count": 11,
   "metadata": {},
   "outputs": [],
   "source": [
    "df_all['result_ud_hdc'] = np.NaN"
   ]
  },
  {
   "cell_type": "code",
   "execution_count": 12,
   "metadata": {},
   "outputs": [],
   "source": [
    "# 1: up win; 2: down win\n",
    "df_all['result_ud_hdc'] = np.where((df_all.BbAHh < 0) & (df_all.result_ha_hdc == 1), 1, np.where((df_all.BbAHh > 0) & (df_all.result_ha_hdc == 0), 1, 0))"
   ]
  },
  {
   "cell_type": "code",
   "execution_count": 13,
   "metadata": {},
   "outputs": [
    {
     "data": {
      "text/plain": [
       "0    15819\n",
       "1     9190\n",
       "Name: result_ud_hdc, dtype: int64"
      ]
     },
     "execution_count": 13,
     "metadata": {},
     "output_type": "execute_result"
    }
   ],
   "source": [
    "df_all['result_ud_hdc'].value_counts()"
   ]
  },
  {
   "cell_type": "code",
   "execution_count": 14,
   "metadata": {},
   "outputs": [],
   "source": [
    "df_all.loc[df_all['BbAHh'] == 0, 'result_ud_hdc'] = np.NaN"
   ]
  },
  {
   "cell_type": "code",
   "execution_count": 15,
   "metadata": {},
   "outputs": [
    {
     "data": {
      "text/plain": [
       "0.0    11027\n",
       "1.0     9190\n",
       "Name: result_ud_hdc, dtype: int64"
      ]
     },
     "execution_count": 15,
     "metadata": {},
     "output_type": "execute_result"
    }
   ],
   "source": [
    "df_all['result_ud_hdc'].value_counts()"
   ]
  },
  {
   "cell_type": "code",
   "execution_count": null,
   "metadata": {},
   "outputs": [],
   "source": [
    "# df_all = df_all.loc[df_all['BbAHh'] != 0]"
   ]
  },
  {
   "cell_type": "code",
   "execution_count": null,
   "metadata": {
    "scrolled": true
   },
   "outputs": [],
   "source": [
    "df_all['result_ud_hdc'].groupby(df_all.season).value_counts()"
   ]
  },
  {
   "cell_type": "code",
   "execution_count": null,
   "metadata": {},
   "outputs": [],
   "source": [
    "df_all.head()"
   ]
  },
  {
   "cell_type": "code",
   "execution_count": null,
   "metadata": {},
   "outputs": [],
   "source": [
    "ud_d = df_all['result_ud_hdc'].where(df_all.result_ud_hdc == 0).groupby([df_all.season, df_all.index.month, df_all.league]).count()"
   ]
  },
  {
   "cell_type": "code",
   "execution_count": null,
   "metadata": {},
   "outputs": [],
   "source": [
    "ud_u = df_all['result_ud_hdc'].where(df_all.result_ud_hdc == 1).groupby([df_all.season, df_all.index.month, df_all.league]).count()"
   ]
  },
  {
   "cell_type": "code",
   "execution_count": null,
   "metadata": {},
   "outputs": [],
   "source": [
    "ud_diff = ud_d - ud_u"
   ]
  },
  {
   "cell_type": "code",
   "execution_count": null,
   "metadata": {},
   "outputs": [],
   "source": [
    "df_ud = pd.DataFrame({'ud_diff' : pd.Series(ud_diff)})"
   ]
  },
  {
   "cell_type": "code",
   "execution_count": null,
   "metadata": {},
   "outputs": [],
   "source": [
    "df_ud = df_ud.unstack()"
   ]
  },
  {
   "cell_type": "code",
   "execution_count": null,
   "metadata": {},
   "outputs": [],
   "source": [
    "df_ud.index.names = ['season','month']"
   ]
  },
  {
   "cell_type": "code",
   "execution_count": null,
   "metadata": {},
   "outputs": [],
   "source": [
    "L = df_ud.columns.tolist()"
   ]
  },
  {
   "cell_type": "code",
   "execution_count": null,
   "metadata": {},
   "outputs": [],
   "source": [
    "for i in range(len(L)):\n",
    "    L[i] = data_list[i]"
   ]
  },
  {
   "cell_type": "code",
   "execution_count": null,
   "metadata": {},
   "outputs": [],
   "source": [
    "df_ud.columns = L"
   ]
  },
  {
   "cell_type": "code",
   "execution_count": null,
   "metadata": {
    "scrolled": true
   },
   "outputs": [],
   "source": [
    "print('League: D1. Mean:', str(df_ud['D1'].mean()), ' ; std:', str(df_ud['D1'].std()))\n",
    "df_ud['D1'].plot(figsize=(20,5),grid=True)"
   ]
  },
  {
   "cell_type": "code",
   "execution_count": null,
   "metadata": {},
   "outputs": [],
   "source": [
    "print('League: E0. Mean:', str(df_ud['E0'].mean()), ' ; std:', str(df_ud['E0'].std()))\n",
    "df_ud['E0'].plot(figsize=(20,5),grid=True)"
   ]
  },
  {
   "cell_type": "code",
   "execution_count": null,
   "metadata": {
    "scrolled": true
   },
   "outputs": [],
   "source": [
    "print('League: F1. Mean:', str(df_ud['F1'].mean()), ' ; std:', str(df_ud['F1'].std()))\n",
    "df_ud['F1'].plot(figsize=(20,5),grid=True)"
   ]
  },
  {
   "cell_type": "code",
   "execution_count": null,
   "metadata": {},
   "outputs": [],
   "source": [
    "print('League: I1. Mean:', str(df_ud['I1'].mean()), ' ; std:', str(df_ud['I1'].std()))\n",
    "df_ud['I1'].plot(figsize=(20,5),grid=True)"
   ]
  },
  {
   "cell_type": "code",
   "execution_count": null,
   "metadata": {},
   "outputs": [],
   "source": [
    "print('League: SP1. Mean:', str(df_ud['SP1'].mean()), ' ; std:', str(df_ud['SP1'].std()))\n",
    "df_ud['SP1'].plot(figsize=(20,5),grid=True)"
   ]
  },
  {
   "cell_type": "code",
   "execution_count": null,
   "metadata": {},
   "outputs": [],
   "source": [
    "df_ud['sum'] = df_ud['D1'] + df_ud['E0'] + df_ud['F1'] + df_ud['I1'] + df_ud['SP1']"
   ]
  },
  {
   "cell_type": "code",
   "execution_count": null,
   "metadata": {},
   "outputs": [],
   "source": [
    "print('League: All. Mean:', str(df_ud['sum'].mean()), ' ; std:', str(df_ud['sum'].std()))\n",
    "df_ud['sum'].plot(figsize=(20,5),grid=True)"
   ]
  },
  {
   "cell_type": "code",
   "execution_count": null,
   "metadata": {},
   "outputs": [],
   "source": [
    "# result_ha_hdc: 1: home won ; 0: away won ; 2: draw\n",
    "# result_ud_hdc: 1: up won ; 0: down won ; NaN: lvl"
   ]
  },
  {
   "cell_type": "markdown",
   "metadata": {},
   "source": [
    "## Odds, by Home/Away"
   ]
  },
  {
   "cell_type": "code",
   "execution_count": null,
   "metadata": {},
   "outputs": [],
   "source": []
  },
  {
   "cell_type": "markdown",
   "metadata": {},
   "source": [
    "## Win/Loss stride"
   ]
  },
  {
   "cell_type": "code",
   "execution_count": 16,
   "metadata": {},
   "outputs": [
    {
     "data": {
      "text/plain": [
       "0.0    11302\n",
       "1.0    11209\n",
       "2.0     2498\n",
       "Name: result_ha_hdc, dtype: int64"
      ]
     },
     "execution_count": 16,
     "metadata": {},
     "output_type": "execute_result"
    }
   ],
   "source": [
    "df_all['result_ha_hdc'].value_counts()"
   ]
  },
  {
   "cell_type": "code",
   "execution_count": null,
   "metadata": {},
   "outputs": [],
   "source": [
    "# 1: home win ; 0: away win, 2: draw\n",
    "df_all['result_match'].value_counts()"
   ]
  },
  {
   "cell_type": "code",
   "execution_count": 17,
   "metadata": {},
   "outputs": [],
   "source": [
    "df_all['result_ha_hdc'].replace(2, np.NaN, inplace = True)\n",
    "# df_all['result_ha_hdc'].replace(2, 0, inplace = True)"
   ]
  },
  {
   "cell_type": "code",
   "execution_count": null,
   "metadata": {},
   "outputs": [],
   "source": [
    "# df_all['result_match'].replace(0, np.NaN, inplace = True)\n",
    "# df_all['result_match'].replace(2, 0, inplace = True)"
   ]
  },
  {
   "cell_type": "code",
   "execution_count": null,
   "metadata": {},
   "outputs": [],
   "source": [
    "df_all['result_ha_hdc'].value_counts()"
   ]
  },
  {
   "cell_type": "code",
   "execution_count": 619,
   "metadata": {},
   "outputs": [],
   "source": [
    "s = (df_all.filter(like = 'Team').stack()\n",
    "         .reset_index(level=-1, drop=True)\n",
    "         .reset_index(name='Team'))"
   ]
  },
  {
   "cell_type": "code",
   "execution_count": 621,
   "metadata": {},
   "outputs": [],
   "source": [
    "# s.loc[s['ret_rate'] < 0.25,   ]\n",
    "\n",
    "s['ret_rate_hdc'] = np.where( s['ret_rate'] <= 0.25, 0.5, 1)"
   ]
  },
  {
   "cell_type": "code",
   "execution_count": null,
   "metadata": {},
   "outputs": [],
   "source": [
    "# s['Date'] = pd.to_datetime(s['Date'])\n",
    "# s = s.set_index([pd.DatetimeIndex(s['Date'])])\n",
    "# s = s.drop('Date', axis = 1)"
   ]
  },
  {
   "cell_type": "code",
   "execution_count": null,
   "metadata": {},
   "outputs": [],
   "source": [
    "# s = s.reset_index()"
   ]
  },
  {
   "cell_type": "code",
   "execution_count": 622,
   "metadata": {},
   "outputs": [],
   "source": [
    "s.loc[s['result_match'] == -1, 'result_match'] = 2"
   ]
  },
  {
   "cell_type": "code",
   "execution_count": 628,
   "metadata": {},
   "outputs": [
    {
     "data": {
      "text/html": [
       "<div>\n",
       "<style scoped>\n",
       "    .dataframe tbody tr th:only-of-type {\n",
       "        vertical-align: middle;\n",
       "    }\n",
       "\n",
       "    .dataframe tbody tr th {\n",
       "        vertical-align: top;\n",
       "    }\n",
       "\n",
       "    .dataframe thead th {\n",
       "        text-align: right;\n",
       "    }\n",
       "</style>\n",
       "<table border=\"1\" class=\"dataframe\">\n",
       "  <thead>\n",
       "    <tr style=\"text-align: right;\">\n",
       "      <th></th>\n",
       "      <th>Date</th>\n",
       "      <th>Team</th>\n",
       "      <th>result_ha_hdc</th>\n",
       "      <th>result_match</th>\n",
       "      <th>scores</th>\n",
       "      <th>odd</th>\n",
       "      <th>rate_hdc</th>\n",
       "      <th>win</th>\n",
       "      <th>draw</th>\n",
       "      <th>loss</th>\n",
       "      <th>ret_rate</th>\n",
       "      <th>ret_rate_hdc</th>\n",
       "    </tr>\n",
       "  </thead>\n",
       "  <tbody>\n",
       "    <tr>\n",
       "      <th>52</th>\n",
       "      <td>2005-08-28</td>\n",
       "      <td>Duisburg</td>\n",
       "      <td>NaN</td>\n",
       "      <td>2.0</td>\n",
       "      <td>1.0</td>\n",
       "      <td>0.00</td>\n",
       "      <td>1.13</td>\n",
       "      <td>2.62</td>\n",
       "      <td>3.20</td>\n",
       "      <td>2.37</td>\n",
       "      <td>0.00</td>\n",
       "      <td>0.5</td>\n",
       "    </tr>\n",
       "    <tr>\n",
       "      <th>53</th>\n",
       "      <td>2005-08-28</td>\n",
       "      <td>Dortmund</td>\n",
       "      <td>NaN</td>\n",
       "      <td>2.0</td>\n",
       "      <td>1.0</td>\n",
       "      <td>0.00</td>\n",
       "      <td>0.71</td>\n",
       "      <td>2.37</td>\n",
       "      <td>3.20</td>\n",
       "      <td>2.62</td>\n",
       "      <td>0.00</td>\n",
       "      <td>0.5</td>\n",
       "    </tr>\n",
       "    <tr>\n",
       "      <th>58</th>\n",
       "      <td>2005-09-10</td>\n",
       "      <td>Leverkusen</td>\n",
       "      <td>1.0</td>\n",
       "      <td>2.0</td>\n",
       "      <td>1.0</td>\n",
       "      <td>0.25</td>\n",
       "      <td>0.97</td>\n",
       "      <td>2.50</td>\n",
       "      <td>3.00</td>\n",
       "      <td>2.62</td>\n",
       "      <td>0.25</td>\n",
       "      <td>0.5</td>\n",
       "    </tr>\n",
       "    <tr>\n",
       "      <th>59</th>\n",
       "      <td>2005-09-10</td>\n",
       "      <td>Schalke 04</td>\n",
       "      <td>0.0</td>\n",
       "      <td>2.0</td>\n",
       "      <td>1.0</td>\n",
       "      <td>-0.25</td>\n",
       "      <td>0.89</td>\n",
       "      <td>2.62</td>\n",
       "      <td>3.00</td>\n",
       "      <td>2.50</td>\n",
       "      <td>0.25</td>\n",
       "      <td>0.5</td>\n",
       "    </tr>\n",
       "    <tr>\n",
       "      <th>62</th>\n",
       "      <td>2005-09-10</td>\n",
       "      <td>M'gladbach</td>\n",
       "      <td>1.0</td>\n",
       "      <td>1.0</td>\n",
       "      <td>2.0</td>\n",
       "      <td>-0.75</td>\n",
       "      <td>1.06</td>\n",
       "      <td>1.72</td>\n",
       "      <td>3.50</td>\n",
       "      <td>4.00</td>\n",
       "      <td>0.25</td>\n",
       "      <td>0.5</td>\n",
       "    </tr>\n",
       "    <tr>\n",
       "      <th>63</th>\n",
       "      <td>2005-09-10</td>\n",
       "      <td>Duisburg</td>\n",
       "      <td>0.0</td>\n",
       "      <td>0.0</td>\n",
       "      <td>1.0</td>\n",
       "      <td>0.75</td>\n",
       "      <td>0.80</td>\n",
       "      <td>4.00</td>\n",
       "      <td>3.50</td>\n",
       "      <td>1.72</td>\n",
       "      <td>0.25</td>\n",
       "      <td>0.5</td>\n",
       "    </tr>\n",
       "    <tr>\n",
       "      <th>64</th>\n",
       "      <td>2005-09-10</td>\n",
       "      <td>Nurnberg</td>\n",
       "      <td>NaN</td>\n",
       "      <td>0.0</td>\n",
       "      <td>1.0</td>\n",
       "      <td>1.00</td>\n",
       "      <td>1.01</td>\n",
       "      <td>4.75</td>\n",
       "      <td>3.75</td>\n",
       "      <td>1.53</td>\n",
       "      <td>0.00</td>\n",
       "      <td>0.5</td>\n",
       "    </tr>\n",
       "    <tr>\n",
       "      <th>65</th>\n",
       "      <td>2005-09-10</td>\n",
       "      <td>Bayern Munich</td>\n",
       "      <td>NaN</td>\n",
       "      <td>1.0</td>\n",
       "      <td>2.0</td>\n",
       "      <td>-1.00</td>\n",
       "      <td>0.83</td>\n",
       "      <td>1.53</td>\n",
       "      <td>3.75</td>\n",
       "      <td>4.75</td>\n",
       "      <td>0.00</td>\n",
       "      <td>0.5</td>\n",
       "    </tr>\n",
       "    <tr>\n",
       "      <th>68</th>\n",
       "      <td>2005-09-11</td>\n",
       "      <td>Dortmund</td>\n",
       "      <td>1.0</td>\n",
       "      <td>1.0</td>\n",
       "      <td>2.0</td>\n",
       "      <td>-0.75</td>\n",
       "      <td>0.96</td>\n",
       "      <td>1.72</td>\n",
       "      <td>3.50</td>\n",
       "      <td>4.00</td>\n",
       "      <td>0.25</td>\n",
       "      <td>0.5</td>\n",
       "    </tr>\n",
       "    <tr>\n",
       "      <th>69</th>\n",
       "      <td>2005-09-11</td>\n",
       "      <td>FC Koln</td>\n",
       "      <td>0.0</td>\n",
       "      <td>0.0</td>\n",
       "      <td>1.0</td>\n",
       "      <td>0.75</td>\n",
       "      <td>0.89</td>\n",
       "      <td>4.00</td>\n",
       "      <td>3.50</td>\n",
       "      <td>1.72</td>\n",
       "      <td>0.25</td>\n",
       "      <td>0.5</td>\n",
       "    </tr>\n",
       "    <tr>\n",
       "      <th>74</th>\n",
       "      <td>2005-09-17</td>\n",
       "      <td>Bielefeld</td>\n",
       "      <td>0.0</td>\n",
       "      <td>2.0</td>\n",
       "      <td>0.0</td>\n",
       "      <td>-0.25</td>\n",
       "      <td>1.05</td>\n",
       "      <td>2.30</td>\n",
       "      <td>3.40</td>\n",
       "      <td>2.87</td>\n",
       "      <td>0.25</td>\n",
       "      <td>0.5</td>\n",
       "    </tr>\n",
       "    <tr>\n",
       "      <th>75</th>\n",
       "      <td>2005-09-17</td>\n",
       "      <td>Kaiserslautern</td>\n",
       "      <td>1.0</td>\n",
       "      <td>2.0</td>\n",
       "      <td>0.0</td>\n",
       "      <td>0.25</td>\n",
       "      <td>0.81</td>\n",
       "      <td>2.87</td>\n",
       "      <td>3.40</td>\n",
       "      <td>2.30</td>\n",
       "      <td>0.25</td>\n",
       "      <td>0.5</td>\n",
       "    </tr>\n",
       "    <tr>\n",
       "      <th>82</th>\n",
       "      <td>2005-09-17</td>\n",
       "      <td>Werder Bremen</td>\n",
       "      <td>1.0</td>\n",
       "      <td>1.0</td>\n",
       "      <td>3.0</td>\n",
       "      <td>-0.75</td>\n",
       "      <td>0.91</td>\n",
       "      <td>1.66</td>\n",
       "      <td>3.60</td>\n",
       "      <td>5.00</td>\n",
       "      <td>0.25</td>\n",
       "      <td>0.5</td>\n",
       "    </tr>\n",
       "    <tr>\n",
       "      <th>83</th>\n",
       "      <td>2005-09-17</td>\n",
       "      <td>Dortmund</td>\n",
       "      <td>0.0</td>\n",
       "      <td>0.0</td>\n",
       "      <td>2.0</td>\n",
       "      <td>0.75</td>\n",
       "      <td>0.95</td>\n",
       "      <td>5.00</td>\n",
       "      <td>3.60</td>\n",
       "      <td>1.66</td>\n",
       "      <td>0.25</td>\n",
       "      <td>0.5</td>\n",
       "    </tr>\n",
       "    <tr>\n",
       "      <th>92</th>\n",
       "      <td>2005-09-20</td>\n",
       "      <td>Ein Frankfurt</td>\n",
       "      <td>NaN</td>\n",
       "      <td>0.0</td>\n",
       "      <td>0.0</td>\n",
       "      <td>1.00</td>\n",
       "      <td>0.93</td>\n",
       "      <td>7.00</td>\n",
       "      <td>3.75</td>\n",
       "      <td>1.50</td>\n",
       "      <td>0.00</td>\n",
       "      <td>0.5</td>\n",
       "    </tr>\n",
       "    <tr>\n",
       "      <th>93</th>\n",
       "      <td>2005-09-20</td>\n",
       "      <td>Bayern Munich</td>\n",
       "      <td>NaN</td>\n",
       "      <td>1.0</td>\n",
       "      <td>1.0</td>\n",
       "      <td>-1.00</td>\n",
       "      <td>0.91</td>\n",
       "      <td>1.50</td>\n",
       "      <td>3.75</td>\n",
       "      <td>7.00</td>\n",
       "      <td>0.00</td>\n",
       "      <td>0.5</td>\n",
       "    </tr>\n",
       "    <tr>\n",
       "      <th>98</th>\n",
       "      <td>2005-09-21</td>\n",
       "      <td>Hertha</td>\n",
       "      <td>0.0</td>\n",
       "      <td>1.0</td>\n",
       "      <td>3.0</td>\n",
       "      <td>-1.25</td>\n",
       "      <td>0.84</td>\n",
       "      <td>1.36</td>\n",
       "      <td>4.33</td>\n",
       "      <td>8.00</td>\n",
       "      <td>0.25</td>\n",
       "      <td>0.5</td>\n",
       "    </tr>\n",
       "    <tr>\n",
       "      <th>99</th>\n",
       "      <td>2005-09-21</td>\n",
       "      <td>Duisburg</td>\n",
       "      <td>1.0</td>\n",
       "      <td>0.0</td>\n",
       "      <td>2.0</td>\n",
       "      <td>1.25</td>\n",
       "      <td>1.01</td>\n",
       "      <td>8.00</td>\n",
       "      <td>4.33</td>\n",
       "      <td>1.36</td>\n",
       "      <td>0.25</td>\n",
       "      <td>0.5</td>\n",
       "    </tr>\n",
       "    <tr>\n",
       "      <th>102</th>\n",
       "      <td>2005-09-21</td>\n",
       "      <td>Leverkusen</td>\n",
       "      <td>1.0</td>\n",
       "      <td>1.0</td>\n",
       "      <td>2.0</td>\n",
       "      <td>-0.75</td>\n",
       "      <td>0.84</td>\n",
       "      <td>1.61</td>\n",
       "      <td>3.60</td>\n",
       "      <td>5.00</td>\n",
       "      <td>0.25</td>\n",
       "      <td>0.5</td>\n",
       "    </tr>\n",
       "    <tr>\n",
       "      <th>103</th>\n",
       "      <td>2005-09-21</td>\n",
       "      <td>FC Koln</td>\n",
       "      <td>0.0</td>\n",
       "      <td>0.0</td>\n",
       "      <td>1.0</td>\n",
       "      <td>0.75</td>\n",
       "      <td>1.02</td>\n",
       "      <td>5.00</td>\n",
       "      <td>3.60</td>\n",
       "      <td>1.61</td>\n",
       "      <td>0.25</td>\n",
       "      <td>0.5</td>\n",
       "    </tr>\n",
       "  </tbody>\n",
       "</table>\n",
       "</div>"
      ],
      "text/plain": [
       "          Date            Team  result_ha_hdc  result_match  scores   odd  \\\n",
       "52  2005-08-28        Duisburg            NaN           2.0     1.0  0.00   \n",
       "53  2005-08-28        Dortmund            NaN           2.0     1.0  0.00   \n",
       "58  2005-09-10      Leverkusen            1.0           2.0     1.0  0.25   \n",
       "59  2005-09-10      Schalke 04            0.0           2.0     1.0 -0.25   \n",
       "62  2005-09-10      M'gladbach            1.0           1.0     2.0 -0.75   \n",
       "63  2005-09-10        Duisburg            0.0           0.0     1.0  0.75   \n",
       "64  2005-09-10        Nurnberg            NaN           0.0     1.0  1.00   \n",
       "65  2005-09-10   Bayern Munich            NaN           1.0     2.0 -1.00   \n",
       "68  2005-09-11        Dortmund            1.0           1.0     2.0 -0.75   \n",
       "69  2005-09-11         FC Koln            0.0           0.0     1.0  0.75   \n",
       "74  2005-09-17       Bielefeld            0.0           2.0     0.0 -0.25   \n",
       "75  2005-09-17  Kaiserslautern            1.0           2.0     0.0  0.25   \n",
       "82  2005-09-17   Werder Bremen            1.0           1.0     3.0 -0.75   \n",
       "83  2005-09-17        Dortmund            0.0           0.0     2.0  0.75   \n",
       "92  2005-09-20   Ein Frankfurt            NaN           0.0     0.0  1.00   \n",
       "93  2005-09-20   Bayern Munich            NaN           1.0     1.0 -1.00   \n",
       "98  2005-09-21          Hertha            0.0           1.0     3.0 -1.25   \n",
       "99  2005-09-21        Duisburg            1.0           0.0     2.0  1.25   \n",
       "102 2005-09-21      Leverkusen            1.0           1.0     2.0 -0.75   \n",
       "103 2005-09-21         FC Koln            0.0           0.0     1.0  0.75   \n",
       "\n",
       "     rate_hdc   win  draw  loss  ret_rate  ret_rate_hdc  \n",
       "52       1.13  2.62  3.20  2.37      0.00           0.5  \n",
       "53       0.71  2.37  3.20  2.62      0.00           0.5  \n",
       "58       0.97  2.50  3.00  2.62      0.25           0.5  \n",
       "59       0.89  2.62  3.00  2.50      0.25           0.5  \n",
       "62       1.06  1.72  3.50  4.00      0.25           0.5  \n",
       "63       0.80  4.00  3.50  1.72      0.25           0.5  \n",
       "64       1.01  4.75  3.75  1.53      0.00           0.5  \n",
       "65       0.83  1.53  3.75  4.75      0.00           0.5  \n",
       "68       0.96  1.72  3.50  4.00      0.25           0.5  \n",
       "69       0.89  4.00  3.50  1.72      0.25           0.5  \n",
       "74       1.05  2.30  3.40  2.87      0.25           0.5  \n",
       "75       0.81  2.87  3.40  2.30      0.25           0.5  \n",
       "82       0.91  1.66  3.60  5.00      0.25           0.5  \n",
       "83       0.95  5.00  3.60  1.66      0.25           0.5  \n",
       "92       0.93  7.00  3.75  1.50      0.00           0.5  \n",
       "93       0.91  1.50  3.75  7.00      0.00           0.5  \n",
       "98       0.84  1.36  4.33  8.00      0.25           0.5  \n",
       "99       1.01  8.00  4.33  1.36      0.25           0.5  \n",
       "102      0.84  1.61  3.60  5.00      0.25           0.5  \n",
       "103      1.02  5.00  3.60  1.61      0.25           0.5  "
      ]
     },
     "execution_count": 628,
     "metadata": {},
     "output_type": "execute_result"
    }
   ],
   "source": [
    "s.loc[s['ret_rate_hdc'] == 0.5][10:30]"
   ]
  },
  {
   "cell_type": "code",
   "execution_count": null,
   "metadata": {},
   "outputs": [],
   "source": []
  },
  {
   "cell_type": "code",
   "execution_count": 471,
   "metadata": {
    "scrolled": true
   },
   "outputs": [],
   "source": [
    "team_list = []\n",
    "team_loss = []\n",
    "team_loss_mean = []\n",
    "team_win = []\n",
    "team_win_mean = []\n",
    "team_w_l_ratio = []\n",
    "for team in s.Team.unique():\n",
    "    team_result = s['result_ha_hdc'].where(s['Team']== team)\n",
    "    team_result = team_result.dropna()\n",
    "    team_w_l_ratio_tmp = team_result.where(team_result == 1).count() / team_result.where(team_result == 0).count()\n",
    "    \n",
    "    team_loss_mean_tmp = (team_result.groupby(team_result.diff().ne(0).cumsum()).cumcount()+1).mask(team_result==1).mean()\n",
    "    team_loss_tmp = (team_result.groupby(team_result.diff().ne(0).cumsum()).cumcount()+1).mask(team_result==1).value_counts(sort=False).to_list()\n",
    "    for i in range(1, len(team_loss_tmp)):\n",
    "        team_loss_tmp[i-1] = team_loss_tmp[i-1] - team_loss_tmp[i]\n",
    "    \n",
    "    team_win_mean_tmp = (team_result.groupby(team_result.diff().ne(0).cumsum()).cumcount()+1).mask(team_result==1).mean()\n",
    "    team_win_tmp = (team_result.groupby(team_result.diff().ne(0).cumsum()).cumcount()+1).mask(team_result==0).value_counts(sort=False).to_list()\n",
    "    for i in range(1, len(team_win_tmp)):\n",
    "        team_win_tmp[i-1] = team_win_tmp[i-1] - team_win_tmp[i]\n",
    "    \n",
    "    team_name = team\n",
    "    team_list.append(team_name)\n",
    "    team_loss.append(team_loss_tmp)\n",
    "    team_loss_mean.append(team_loss_mean_tmp)\n",
    "    team_win.append(team_win_tmp)\n",
    "    team_win_mean.append(team_win_mean_tmp)\n",
    "    team_w_l_ratio.append(team_w_l_ratio_tmp)\n",
    "    \n",
    "# (s_tmp.groupby(s_tmp.diff().ne(0).cumsum()).cumcount()+1).mask(s_tmp==1).max()"
   ]
  },
  {
   "cell_type": "code",
   "execution_count": 137,
   "metadata": {},
   "outputs": [],
   "source": [
    "df_turnover = pd.DataFrame({'team' : team_list, 'loss' : team_loss, 'loss_mean' : team_loss_mean , 'win' : team_win, 'win_mean' : team_win_mean, 'win_loss_ratio' : team_w_l_ratio})"
   ]
  },
  {
   "cell_type": "code",
   "execution_count": 138,
   "metadata": {},
   "outputs": [],
   "source": [
    "df_turnover.to_csv(root_dir + '\\\\turnover.csv', index = False)"
   ]
  },
  {
   "cell_type": "markdown",
   "metadata": {},
   "source": [
    "## Validation"
   ]
  },
  {
   "cell_type": "code",
   "execution_count": 472,
   "metadata": {},
   "outputs": [],
   "source": [
    "df_current = df_all.loc['2019-08-01':'2020-12-31']"
   ]
  },
  {
   "cell_type": "code",
   "execution_count": 473,
   "metadata": {},
   "outputs": [
    {
     "data": {
      "text/html": [
       "<div>\n",
       "<style scoped>\n",
       "    .dataframe tbody tr th:only-of-type {\n",
       "        vertical-align: middle;\n",
       "    }\n",
       "\n",
       "    .dataframe tbody tr th {\n",
       "        vertical-align: top;\n",
       "    }\n",
       "\n",
       "    .dataframe thead th {\n",
       "        text-align: right;\n",
       "    }\n",
       "</style>\n",
       "<table border=\"1\" class=\"dataframe\">\n",
       "  <thead>\n",
       "    <tr style=\"text-align: right;\">\n",
       "      <th></th>\n",
       "      <th>HomeTeam</th>\n",
       "      <th>AwayTeam</th>\n",
       "      <th>FTHG</th>\n",
       "      <th>FTAG</th>\n",
       "      <th>FTR</th>\n",
       "      <th>B365H</th>\n",
       "      <th>B365D</th>\n",
       "      <th>B365A</th>\n",
       "      <th>BbAHh</th>\n",
       "      <th>BbAvAHH</th>\n",
       "      <th>BbAvAHA</th>\n",
       "      <th>season</th>\n",
       "      <th>league</th>\n",
       "      <th>goal_diff</th>\n",
       "      <th>result_ha_hdc</th>\n",
       "      <th>result_match</th>\n",
       "      <th>result_ud_hdc</th>\n",
       "    </tr>\n",
       "    <tr>\n",
       "      <th>Date</th>\n",
       "      <th></th>\n",
       "      <th></th>\n",
       "      <th></th>\n",
       "      <th></th>\n",
       "      <th></th>\n",
       "      <th></th>\n",
       "      <th></th>\n",
       "      <th></th>\n",
       "      <th></th>\n",
       "      <th></th>\n",
       "      <th></th>\n",
       "      <th></th>\n",
       "      <th></th>\n",
       "      <th></th>\n",
       "      <th></th>\n",
       "      <th></th>\n",
       "      <th></th>\n",
       "    </tr>\n",
       "  </thead>\n",
       "  <tbody>\n",
       "    <tr>\n",
       "      <th>2019-08-16</th>\n",
       "      <td>Bayern Munich</td>\n",
       "      <td>Hertha</td>\n",
       "      <td>2.0</td>\n",
       "      <td>2.0</td>\n",
       "      <td>D</td>\n",
       "      <td>1.14</td>\n",
       "      <td>8.00</td>\n",
       "      <td>15.00</td>\n",
       "      <td>-2.25</td>\n",
       "      <td>1.98</td>\n",
       "      <td>1.91</td>\n",
       "      <td>2019-2020</td>\n",
       "      <td>D1</td>\n",
       "      <td>-2.25</td>\n",
       "      <td>0.0</td>\n",
       "      <td>2</td>\n",
       "      <td>0.0</td>\n",
       "    </tr>\n",
       "    <tr>\n",
       "      <th>2019-08-17</th>\n",
       "      <td>Dortmund</td>\n",
       "      <td>Augsburg</td>\n",
       "      <td>5.0</td>\n",
       "      <td>1.0</td>\n",
       "      <td>H</td>\n",
       "      <td>1.20</td>\n",
       "      <td>7.00</td>\n",
       "      <td>13.00</td>\n",
       "      <td>-2.25</td>\n",
       "      <td>1.91</td>\n",
       "      <td>1.97</td>\n",
       "      <td>2019-2020</td>\n",
       "      <td>D1</td>\n",
       "      <td>1.75</td>\n",
       "      <td>1.0</td>\n",
       "      <td>1</td>\n",
       "      <td>1.0</td>\n",
       "    </tr>\n",
       "    <tr>\n",
       "      <th>2019-08-17</th>\n",
       "      <td>Freiburg</td>\n",
       "      <td>Mainz</td>\n",
       "      <td>3.0</td>\n",
       "      <td>0.0</td>\n",
       "      <td>H</td>\n",
       "      <td>2.25</td>\n",
       "      <td>3.25</td>\n",
       "      <td>3.40</td>\n",
       "      <td>0.00</td>\n",
       "      <td>1.90</td>\n",
       "      <td>1.99</td>\n",
       "      <td>2019-2020</td>\n",
       "      <td>D1</td>\n",
       "      <td>3.00</td>\n",
       "      <td>1.0</td>\n",
       "      <td>1</td>\n",
       "      <td>NaN</td>\n",
       "    </tr>\n",
       "    <tr>\n",
       "      <th>2019-08-17</th>\n",
       "      <td>Leverkusen</td>\n",
       "      <td>Paderborn</td>\n",
       "      <td>3.0</td>\n",
       "      <td>2.0</td>\n",
       "      <td>H</td>\n",
       "      <td>1.25</td>\n",
       "      <td>6.00</td>\n",
       "      <td>12.00</td>\n",
       "      <td>-2.00</td>\n",
       "      <td>2.03</td>\n",
       "      <td>1.85</td>\n",
       "      <td>2019-2020</td>\n",
       "      <td>D1</td>\n",
       "      <td>-1.00</td>\n",
       "      <td>0.0</td>\n",
       "      <td>1</td>\n",
       "      <td>0.0</td>\n",
       "    </tr>\n",
       "    <tr>\n",
       "      <th>2019-08-17</th>\n",
       "      <td>Werder Bremen</td>\n",
       "      <td>Fortuna Dusseldorf</td>\n",
       "      <td>1.0</td>\n",
       "      <td>3.0</td>\n",
       "      <td>A</td>\n",
       "      <td>1.75</td>\n",
       "      <td>3.75</td>\n",
       "      <td>4.75</td>\n",
       "      <td>-0.75</td>\n",
       "      <td>1.89</td>\n",
       "      <td>2.00</td>\n",
       "      <td>2019-2020</td>\n",
       "      <td>D1</td>\n",
       "      <td>-2.75</td>\n",
       "      <td>0.0</td>\n",
       "      <td>0</td>\n",
       "      <td>0.0</td>\n",
       "    </tr>\n",
       "  </tbody>\n",
       "</table>\n",
       "</div>"
      ],
      "text/plain": [
       "                 HomeTeam            AwayTeam  FTHG  FTAG FTR  B365H  B365D  \\\n",
       "Date                                                                          \n",
       "2019-08-16  Bayern Munich              Hertha   2.0   2.0   D   1.14   8.00   \n",
       "2019-08-17       Dortmund            Augsburg   5.0   1.0   H   1.20   7.00   \n",
       "2019-08-17       Freiburg               Mainz   3.0   0.0   H   2.25   3.25   \n",
       "2019-08-17     Leverkusen           Paderborn   3.0   2.0   H   1.25   6.00   \n",
       "2019-08-17  Werder Bremen  Fortuna Dusseldorf   1.0   3.0   A   1.75   3.75   \n",
       "\n",
       "            B365A  BbAHh  BbAvAHH  BbAvAHA     season league  goal_diff  \\\n",
       "Date                                                                      \n",
       "2019-08-16  15.00  -2.25     1.98     1.91  2019-2020     D1      -2.25   \n",
       "2019-08-17  13.00  -2.25     1.91     1.97  2019-2020     D1       1.75   \n",
       "2019-08-17   3.40   0.00     1.90     1.99  2019-2020     D1       3.00   \n",
       "2019-08-17  12.00  -2.00     2.03     1.85  2019-2020     D1      -1.00   \n",
       "2019-08-17   4.75  -0.75     1.89     2.00  2019-2020     D1      -2.75   \n",
       "\n",
       "            result_ha_hdc  result_match  result_ud_hdc  \n",
       "Date                                                    \n",
       "2019-08-16            0.0             2            0.0  \n",
       "2019-08-17            1.0             1            1.0  \n",
       "2019-08-17            1.0             1            NaN  \n",
       "2019-08-17            0.0             1            0.0  \n",
       "2019-08-17            0.0             0            0.0  "
      ]
     },
     "execution_count": 473,
     "metadata": {},
     "output_type": "execute_result"
    }
   ],
   "source": [
    "df_current.head()"
   ]
  },
  {
   "cell_type": "code",
   "execution_count": 476,
   "metadata": {},
   "outputs": [],
   "source": [
    "s_current = (df_current.filter(like = 'Team').stack()\n",
    "         .reset_index(level=-1, drop=True)\n",
    "         .reset_index(name='Team'))"
   ]
  },
  {
   "cell_type": "code",
   "execution_count": 477,
   "metadata": {
    "scrolled": true
   },
   "outputs": [],
   "source": [
    "s_current.loc[::2, 'result_ha_hdc'] = df_current.result_ha_hdc.values\n",
    "s_current.loc[1::2,'result_ha_hdc'] = 1- df_current.result_ha_hdc.values\n",
    "\n",
    "s_current.loc[::2, 'result_match'] = df_current.result_match.values\n",
    "s_current.loc[1::2, 'result_match'] = 1 - df_current.result_match.values\n",
    "\n",
    "s_current.loc[::2, 'scores'] = df_current.FTHG.values\n",
    "s_current.loc[1::2, 'scores'] = df_current.FTAG.values\n",
    "\n",
    "s_current.loc[::2, 'odd'] = df_current.BbAHh.values\n",
    "s_current.loc[1::2, 'odd'] = df_current.BbAHh.values * -1\n",
    "s_current['odd'] = s_current['odd'] + 1 - 1\n",
    "\n",
    "s_current.loc[::2, 'rate_hdc'] = df_current.BbAvAHH.values - 1\n",
    "s_current.loc[1::2, 'rate_hdc'] = df_current.BbAvAHA.values - 1\n",
    "\n",
    "s_current.loc[::2, 'win'] = df_current.B365H.values\n",
    "s_current.loc[1::2, 'win'] = df_current.B365A.values\n",
    "\n",
    "s_current.loc[::2, 'draw'] = df_current.B365D.values\n",
    "s_current.loc[1::2, 'draw'] = df_current.B365D.values\n",
    "\n",
    "s_current.loc[::2, 'loss'] = df_current.B365A.values\n",
    "s_current.loc[1::2, 'loss'] = df_current.B365H.values\n",
    "\n",
    "s_current.loc[::2, 'ret_rate'] = abs(df_current.goal_diff.values)\n",
    "s_current.loc[1::2, 'ret_rate'] = abs(df_current.goal_diff.values)"
   ]
  },
  {
   "cell_type": "code",
   "execution_count": 478,
   "metadata": {},
   "outputs": [],
   "source": [
    "s['ret_rate_hdc'] = np.where( s['ret_rate'] <= 0.25, 0.5, 1)\n",
    "\n",
    "s_current.loc[s_current['result_match'] == -1, 'result_match'] = 2"
   ]
  },
  {
   "cell_type": "code",
   "execution_count": null,
   "metadata": {},
   "outputs": [],
   "source": [
    "# s_current['Date'] = pd.to_datetime(s['Date'])\n",
    "# s_current = s_current.set_index([pd.DatetimeIndex(s_current['Date'])])\n",
    "# s_current = s_current.drop('Date', axis = 1)"
   ]
  },
  {
   "cell_type": "code",
   "execution_count": null,
   "metadata": {},
   "outputs": [],
   "source": [
    "# s_current = s_current.reset_index()"
   ]
  },
  {
   "cell_type": "code",
   "execution_count": 479,
   "metadata": {},
   "outputs": [],
   "source": [
    "team_list_c = []\n",
    "team_loss_c = []\n",
    "team_loss_max_c = []\n",
    "team_win_c = []\n",
    "team_win_max_c = []\n",
    "team_w_l_ratio_c = []\n",
    "for team in s_current.Team.unique():\n",
    "    team_result = s_current['result_ha_hdc'].where(s_current['Team']== team)\n",
    "    team_result = team_result.dropna()\n",
    "    team_w_l_ratio_tmp = team_result.where(team_result == 1).count() / team_result.where(team_result == 0).count()\n",
    "    \n",
    "    team_loss_max_tmp = (team_result.groupby(team_result.diff().ne(0).cumsum()).cumcount()+1).mask(team_result==1).max()\n",
    "    team_loss_tmp = (team_result.groupby(team_result.diff().ne(0).cumsum()).cumcount()+1).mask(team_result==1).value_counts(sort=False).to_list()\n",
    "    for i in range(1, len(team_loss_tmp)):\n",
    "        team_loss_tmp[i-1] = team_loss_tmp[i-1] - team_loss_tmp[i]\n",
    "    \n",
    "    team_win_max_tmp = (team_result.groupby(team_result.diff().ne(0).cumsum()).cumcount()+1).mask(team_result==0).max()\n",
    "    team_win_tmp = (team_result.groupby(team_result.diff().ne(0).cumsum()).cumcount()+1).mask(team_result==0).value_counts(sort=False).to_list()\n",
    "    for i in range(1, len(team_win_tmp)):\n",
    "        team_win_tmp[i-1] = team_win_tmp[i-1] - team_win_tmp[i]\n",
    "    \n",
    "    team_name = team\n",
    "    team_list_c.append(team_name)\n",
    "    team_loss_c.append(team_loss_tmp)\n",
    "    team_loss_max_c.append(team_loss_max_tmp)\n",
    "    team_win_c.append(team_win_tmp)\n",
    "    team_win_max_c.append(team_win_max_tmp)\n",
    "    team_w_l_ratio_c.append(team_w_l_ratio_tmp)\n",
    "    "
   ]
  },
  {
   "cell_type": "code",
   "execution_count": 127,
   "metadata": {},
   "outputs": [],
   "source": [
    "df_turnover_c = pd.DataFrame({'team' : team_list_c, 'loss' : team_loss_c, 'loss_max' : team_loss_max_c, \n",
    "                              'win' : team_win_c, 'win_max' : team_win_max_c , 'win_loss_ratio' : team_w_l_ratio_c})"
   ]
  },
  {
   "cell_type": "code",
   "execution_count": 128,
   "metadata": {},
   "outputs": [
    {
     "data": {
      "text/plain": [
       "team              0\n",
       "loss              0\n",
       "loss_max          0\n",
       "win               0\n",
       "win_max           0\n",
       "win_loss_ratio    0\n",
       "dtype: int64"
      ]
     },
     "execution_count": 128,
     "metadata": {},
     "output_type": "execute_result"
    }
   ],
   "source": [
    "df_turnover_c.isna().sum()"
   ]
  },
  {
   "cell_type": "code",
   "execution_count": 129,
   "metadata": {},
   "outputs": [
    {
     "data": {
      "text/plain": [
       "(98, 6)"
      ]
     },
     "execution_count": 129,
     "metadata": {},
     "output_type": "execute_result"
    }
   ],
   "source": [
    "df_turnover_c.shape"
   ]
  },
  {
   "cell_type": "code",
   "execution_count": 130,
   "metadata": {},
   "outputs": [],
   "source": [
    "df_turnover_c = df_turnover_c[df_turnover_c['loss_max'].notna()]"
   ]
  },
  {
   "cell_type": "code",
   "execution_count": 131,
   "metadata": {},
   "outputs": [
    {
     "data": {
      "text/plain": [
       "(98, 6)"
      ]
     },
     "execution_count": 131,
     "metadata": {},
     "output_type": "execute_result"
    }
   ],
   "source": [
    "df_turnover_c.shape"
   ]
  },
  {
   "cell_type": "code",
   "execution_count": 132,
   "metadata": {
    "scrolled": true
   },
   "outputs": [
    {
     "data": {
      "text/html": [
       "<div>\n",
       "<style scoped>\n",
       "    .dataframe tbody tr th:only-of-type {\n",
       "        vertical-align: middle;\n",
       "    }\n",
       "\n",
       "    .dataframe tbody tr th {\n",
       "        vertical-align: top;\n",
       "    }\n",
       "\n",
       "    .dataframe thead th {\n",
       "        text-align: right;\n",
       "    }\n",
       "</style>\n",
       "<table border=\"1\" class=\"dataframe\">\n",
       "  <thead>\n",
       "    <tr style=\"text-align: right;\">\n",
       "      <th></th>\n",
       "      <th>team</th>\n",
       "      <th>loss</th>\n",
       "      <th>loss_max</th>\n",
       "      <th>win</th>\n",
       "      <th>win_max</th>\n",
       "      <th>win_loss_ratio</th>\n",
       "    </tr>\n",
       "  </thead>\n",
       "  <tbody>\n",
       "    <tr>\n",
       "      <th>0</th>\n",
       "      <td>Bayern Munich</td>\n",
       "      <td>[5, 2, 0, 0, 1]</td>\n",
       "      <td>5.0</td>\n",
       "      <td>[4, 3]</td>\n",
       "      <td>2.0</td>\n",
       "      <td>0.714286</td>\n",
       "    </tr>\n",
       "    <tr>\n",
       "      <th>1</th>\n",
       "      <td>Hertha</td>\n",
       "      <td>[4, 0, 1, 0, 1]</td>\n",
       "      <td>5.0</td>\n",
       "      <td>[4, 0, 0, 2]</td>\n",
       "      <td>4.0</td>\n",
       "      <td>1.000000</td>\n",
       "    </tr>\n",
       "    <tr>\n",
       "      <th>2</th>\n",
       "      <td>Dortmund</td>\n",
       "      <td>[3, 2, 0, 1]</td>\n",
       "      <td>4.0</td>\n",
       "      <td>[3, 2, 2]</td>\n",
       "      <td>3.0</td>\n",
       "      <td>1.181818</td>\n",
       "    </tr>\n",
       "    <tr>\n",
       "      <th>3</th>\n",
       "      <td>Augsburg</td>\n",
       "      <td>[1, 3, 0, 1]</td>\n",
       "      <td>4.0</td>\n",
       "      <td>[2, 2, 0, 0, 0, 1]</td>\n",
       "      <td>6.0</td>\n",
       "      <td>1.090909</td>\n",
       "    </tr>\n",
       "    <tr>\n",
       "      <th>4</th>\n",
       "      <td>Freiburg</td>\n",
       "      <td>[6, 1]</td>\n",
       "      <td>2.0</td>\n",
       "      <td>[2, 4, 1, 1]</td>\n",
       "      <td>4.0</td>\n",
       "      <td>2.125000</td>\n",
       "    </tr>\n",
       "  </tbody>\n",
       "</table>\n",
       "</div>"
      ],
      "text/plain": [
       "            team             loss  loss_max                 win  win_max  \\\n",
       "0  Bayern Munich  [5, 2, 0, 0, 1]       5.0              [4, 3]      2.0   \n",
       "1         Hertha  [4, 0, 1, 0, 1]       5.0        [4, 0, 0, 2]      4.0   \n",
       "2       Dortmund     [3, 2, 0, 1]       4.0           [3, 2, 2]      3.0   \n",
       "3       Augsburg     [1, 3, 0, 1]       4.0  [2, 2, 0, 0, 0, 1]      6.0   \n",
       "4       Freiburg           [6, 1]       2.0        [2, 4, 1, 1]      4.0   \n",
       "\n",
       "   win_loss_ratio  \n",
       "0        0.714286  \n",
       "1        1.000000  \n",
       "2        1.181818  \n",
       "3        1.090909  \n",
       "4        2.125000  "
      ]
     },
     "execution_count": 132,
     "metadata": {},
     "output_type": "execute_result"
    }
   ],
   "source": [
    "df_turnover_c.head()"
   ]
  },
  {
   "cell_type": "code",
   "execution_count": 133,
   "metadata": {},
   "outputs": [],
   "source": [
    "df_current.to_csv(root_dir + '\\\\current.csv')"
   ]
  },
  {
   "cell_type": "code",
   "execution_count": 134,
   "metadata": {},
   "outputs": [],
   "source": [
    "# loss_max_c = df_turnover_c['team'].loc[df_turnover_c['loss_max'] >= 4].to_list()"
   ]
  },
  {
   "cell_type": "code",
   "execution_count": 139,
   "metadata": {},
   "outputs": [
    {
     "name": "stdout",
     "output_type": "stream",
     "text": [
      "False    188\n",
      "Name: team, dtype: int64\n",
      "False    98\n",
      "Name: team, dtype: int64\n"
     ]
    }
   ],
   "source": [
    "print(df_turnover['team'].duplicated().value_counts())\n",
    "print(df_turnover_c['team'].duplicated().value_counts())"
   ]
  },
  {
   "cell_type": "code",
   "execution_count": 140,
   "metadata": {},
   "outputs": [],
   "source": [
    "df_turnover_all = df_turnover_c.merge(df_turnover, how = 'inner', on = 'team', suffixes=('_current', '_past'))"
   ]
  },
  {
   "cell_type": "code",
   "execution_count": 141,
   "metadata": {
    "scrolled": true
   },
   "outputs": [
    {
     "data": {
      "text/html": [
       "<div>\n",
       "<style scoped>\n",
       "    .dataframe tbody tr th:only-of-type {\n",
       "        vertical-align: middle;\n",
       "    }\n",
       "\n",
       "    .dataframe tbody tr th {\n",
       "        vertical-align: top;\n",
       "    }\n",
       "\n",
       "    .dataframe thead th {\n",
       "        text-align: right;\n",
       "    }\n",
       "</style>\n",
       "<table border=\"1\" class=\"dataframe\">\n",
       "  <thead>\n",
       "    <tr style=\"text-align: right;\">\n",
       "      <th></th>\n",
       "      <th>team</th>\n",
       "      <th>loss_current</th>\n",
       "      <th>loss_max</th>\n",
       "      <th>win_current</th>\n",
       "      <th>win_max</th>\n",
       "      <th>win_loss_ratio_current</th>\n",
       "      <th>loss_past</th>\n",
       "      <th>loss_mean</th>\n",
       "      <th>win_past</th>\n",
       "      <th>win_mean</th>\n",
       "      <th>win_loss_ratio_past</th>\n",
       "    </tr>\n",
       "  </thead>\n",
       "  <tbody>\n",
       "    <tr>\n",
       "      <th>0</th>\n",
       "      <td>Bayern Munich</td>\n",
       "      <td>[5, 2, 0, 0, 1]</td>\n",
       "      <td>5.0</td>\n",
       "      <td>[4, 3]</td>\n",
       "      <td>2.0</td>\n",
       "      <td>0.714286</td>\n",
       "      <td>[48, 28, 12, 7, 4, 2, 1, 0, 0, 1]</td>\n",
       "      <td>2.115207</td>\n",
       "      <td>[49, 31, 10, 5, 5, 1, 0, 1, 1]</td>\n",
       "      <td>2.115207</td>\n",
       "      <td>0.963134</td>\n",
       "    </tr>\n",
       "    <tr>\n",
       "      <th>1</th>\n",
       "      <td>Hertha</td>\n",
       "      <td>[4, 0, 1, 0, 1]</td>\n",
       "      <td>5.0</td>\n",
       "      <td>[4, 0, 0, 2]</td>\n",
       "      <td>4.0</td>\n",
       "      <td>1.000000</td>\n",
       "      <td>[53, 27, 10, 1, 6]</td>\n",
       "      <td>1.719298</td>\n",
       "      <td>[59, 11, 10, 14, 1, 1, 1]</td>\n",
       "      <td>1.719298</td>\n",
       "      <td>1.081871</td>\n",
       "    </tr>\n",
       "    <tr>\n",
       "      <th>2</th>\n",
       "      <td>Dortmund</td>\n",
       "      <td>[3, 2, 0, 1]</td>\n",
       "      <td>4.0</td>\n",
       "      <td>[3, 2, 2]</td>\n",
       "      <td>3.0</td>\n",
       "      <td>1.181818</td>\n",
       "      <td>[47, 29, 15, 8, 2, 3]</td>\n",
       "      <td>1.890476</td>\n",
       "      <td>[54, 22, 16, 6, 1, 1, 4]</td>\n",
       "      <td>1.890476</td>\n",
       "      <td>0.995238</td>\n",
       "    </tr>\n",
       "    <tr>\n",
       "      <th>3</th>\n",
       "      <td>Augsburg</td>\n",
       "      <td>[1, 3, 0, 1]</td>\n",
       "      <td>4.0</td>\n",
       "      <td>[2, 2, 0, 0, 0, 1]</td>\n",
       "      <td>6.0</td>\n",
       "      <td>1.090909</td>\n",
       "      <td>[35, 17, 7, 6, 2]</td>\n",
       "      <td>1.758065</td>\n",
       "      <td>[34, 15, 7, 5, 1, 3, 1, 1]</td>\n",
       "      <td>1.758065</td>\n",
       "      <td>1.153226</td>\n",
       "    </tr>\n",
       "    <tr>\n",
       "      <th>4</th>\n",
       "      <td>Freiburg</td>\n",
       "      <td>[6, 1]</td>\n",
       "      <td>2.0</td>\n",
       "      <td>[2, 4, 1, 1]</td>\n",
       "      <td>4.0</td>\n",
       "      <td>2.125000</td>\n",
       "      <td>[42, 19, 8, 2, 1]</td>\n",
       "      <td>1.555556</td>\n",
       "      <td>[28, 23, 14, 3, 1, 2, 1]</td>\n",
       "      <td>1.555556</td>\n",
       "      <td>1.299145</td>\n",
       "    </tr>\n",
       "    <tr>\n",
       "      <th>5</th>\n",
       "      <td>Mainz</td>\n",
       "      <td>[4, 2, 2]</td>\n",
       "      <td>3.0</td>\n",
       "      <td>[5, 2]</td>\n",
       "      <td>2.0</td>\n",
       "      <td>0.642857</td>\n",
       "      <td>[56, 23, 15, 3, 2, 2]</td>\n",
       "      <td>1.751381</td>\n",
       "      <td>[54, 26, 10, 6, 1, 1, 2]</td>\n",
       "      <td>1.751381</td>\n",
       "      <td>1.022099</td>\n",
       "    </tr>\n",
       "    <tr>\n",
       "      <th>6</th>\n",
       "      <td>Leverkusen</td>\n",
       "      <td>[3, 2, 0, 1]</td>\n",
       "      <td>4.0</td>\n",
       "      <td>[2, 2, 1, 0, 1]</td>\n",
       "      <td>5.0</td>\n",
       "      <td>1.272727</td>\n",
       "      <td>[47, 31, 8, 11, 4, 0, 0, 0, 1]</td>\n",
       "      <td>1.956311</td>\n",
       "      <td>[56, 20, 12, 4, 8, 2, 1]</td>\n",
       "      <td>1.956311</td>\n",
       "      <td>1.004854</td>\n",
       "    </tr>\n",
       "    <tr>\n",
       "      <th>7</th>\n",
       "      <td>Paderborn</td>\n",
       "      <td>[5, 4]</td>\n",
       "      <td>2.0</td>\n",
       "      <td>[8, 0, 0, 1]</td>\n",
       "      <td>4.0</td>\n",
       "      <td>0.923077</td>\n",
       "      <td>[9, 8, 0, 1]</td>\n",
       "      <td>1.482759</td>\n",
       "      <td>[14, 2, 1, 1]</td>\n",
       "      <td>1.482759</td>\n",
       "      <td>0.862069</td>\n",
       "    </tr>\n",
       "    <tr>\n",
       "      <th>8</th>\n",
       "      <td>Werder Bremen</td>\n",
       "      <td>[2, 1, 1, 1, 1]</td>\n",
       "      <td>5.0</td>\n",
       "      <td>[5, 1]</td>\n",
       "      <td>2.0</td>\n",
       "      <td>0.437500</td>\n",
       "      <td>[59, 26, 6, 13, 3, 2]</td>\n",
       "      <td>1.875000</td>\n",
       "      <td>[57, 29, 12, 4, 4, 3, 0, 0, 0, 0, 1]</td>\n",
       "      <td>1.875000</td>\n",
       "      <td>1.038462</td>\n",
       "    </tr>\n",
       "    <tr>\n",
       "      <th>9</th>\n",
       "      <td>Fortuna Dusseldorf</td>\n",
       "      <td>[5, 1, 2]</td>\n",
       "      <td>3.0</td>\n",
       "      <td>[7, 2]</td>\n",
       "      <td>2.0</td>\n",
       "      <td>0.846154</td>\n",
       "      <td>[10, 5, 3, 0, 1, 1]</td>\n",
       "      <td>1.975000</td>\n",
       "      <td>[9, 6, 3, 3]</td>\n",
       "      <td>1.975000</td>\n",
       "      <td>1.050000</td>\n",
       "    </tr>\n",
       "  </tbody>\n",
       "</table>\n",
       "</div>"
      ],
      "text/plain": [
       "                 team     loss_current  loss_max         win_current  win_max  \\\n",
       "0       Bayern Munich  [5, 2, 0, 0, 1]       5.0              [4, 3]      2.0   \n",
       "1              Hertha  [4, 0, 1, 0, 1]       5.0        [4, 0, 0, 2]      4.0   \n",
       "2            Dortmund     [3, 2, 0, 1]       4.0           [3, 2, 2]      3.0   \n",
       "3            Augsburg     [1, 3, 0, 1]       4.0  [2, 2, 0, 0, 0, 1]      6.0   \n",
       "4            Freiburg           [6, 1]       2.0        [2, 4, 1, 1]      4.0   \n",
       "5               Mainz        [4, 2, 2]       3.0              [5, 2]      2.0   \n",
       "6          Leverkusen     [3, 2, 0, 1]       4.0     [2, 2, 1, 0, 1]      5.0   \n",
       "7           Paderborn           [5, 4]       2.0        [8, 0, 0, 1]      4.0   \n",
       "8       Werder Bremen  [2, 1, 1, 1, 1]       5.0              [5, 1]      2.0   \n",
       "9  Fortuna Dusseldorf        [5, 1, 2]       3.0              [7, 2]      2.0   \n",
       "\n",
       "   win_loss_ratio_current                          loss_past  loss_mean  \\\n",
       "0                0.714286  [48, 28, 12, 7, 4, 2, 1, 0, 0, 1]   2.115207   \n",
       "1                1.000000                 [53, 27, 10, 1, 6]   1.719298   \n",
       "2                1.181818              [47, 29, 15, 8, 2, 3]   1.890476   \n",
       "3                1.090909                  [35, 17, 7, 6, 2]   1.758065   \n",
       "4                2.125000                  [42, 19, 8, 2, 1]   1.555556   \n",
       "5                0.642857              [56, 23, 15, 3, 2, 2]   1.751381   \n",
       "6                1.272727     [47, 31, 8, 11, 4, 0, 0, 0, 1]   1.956311   \n",
       "7                0.923077                       [9, 8, 0, 1]   1.482759   \n",
       "8                0.437500              [59, 26, 6, 13, 3, 2]   1.875000   \n",
       "9                0.846154                [10, 5, 3, 0, 1, 1]   1.975000   \n",
       "\n",
       "                               win_past  win_mean  win_loss_ratio_past  \n",
       "0        [49, 31, 10, 5, 5, 1, 0, 1, 1]  2.115207             0.963134  \n",
       "1             [59, 11, 10, 14, 1, 1, 1]  1.719298             1.081871  \n",
       "2              [54, 22, 16, 6, 1, 1, 4]  1.890476             0.995238  \n",
       "3            [34, 15, 7, 5, 1, 3, 1, 1]  1.758065             1.153226  \n",
       "4              [28, 23, 14, 3, 1, 2, 1]  1.555556             1.299145  \n",
       "5              [54, 26, 10, 6, 1, 1, 2]  1.751381             1.022099  \n",
       "6              [56, 20, 12, 4, 8, 2, 1]  1.956311             1.004854  \n",
       "7                         [14, 2, 1, 1]  1.482759             0.862069  \n",
       "8  [57, 29, 12, 4, 4, 3, 0, 0, 0, 0, 1]  1.875000             1.038462  \n",
       "9                          [9, 6, 3, 3]  1.975000             1.050000  "
      ]
     },
     "execution_count": 141,
     "metadata": {},
     "output_type": "execute_result"
    }
   ],
   "source": [
    "df_turnover_all.head(10)"
   ]
  },
  {
   "cell_type": "code",
   "execution_count": 142,
   "metadata": {},
   "outputs": [
    {
     "data": {
      "text/plain": [
       "60"
      ]
     },
     "execution_count": 142,
     "metadata": {},
     "output_type": "execute_result"
    }
   ],
   "source": [
    "df_turnover_all['win_loss_ratio_past'].where((df_turnover_all['win_loss_ratio_past'] > 0.9) & (df_turnover_all['win_loss_ratio_past'] < 1.1)).count()"
   ]
  },
  {
   "cell_type": "code",
   "execution_count": 143,
   "metadata": {},
   "outputs": [
    {
     "data": {
      "text/plain": [
       "<matplotlib.axes._subplots.AxesSubplot at 0xca7d1c8>"
      ]
     },
     "execution_count": 143,
     "metadata": {},
     "output_type": "execute_result"
    },
    {
     "data": {
      "image/png": "[encoded data removed]",
      "text/plain": [
       "<Figure size 432x288 with 1 Axes>"
      ]
     },
     "metadata": {},
     "output_type": "display_data"
    }
   ],
   "source": [
    "df_turnover_all['win_loss_ratio_past'].hist(bins = 100)"
   ]
  },
  {
   "cell_type": "code",
   "execution_count": 144,
   "metadata": {
    "scrolled": true
   },
   "outputs": [],
   "source": [
    "turnover_balance = df_turnover_all['team'].where((df_turnover_all['win_loss_ratio_past'] > 0.9) & (df_turnover_all['win_loss_ratio_past'] < 1.1)).dropna().to_list()"
   ]
  },
  {
   "cell_type": "markdown",
   "metadata": {},
   "source": [
    "## Strategy: Random picks"
   ]
  },
  {
   "cell_type": "markdown",
   "metadata": {},
   "source": [
    "#### Reversion"
   ]
  },
  {
   "cell_type": "code",
   "execution_count": 145,
   "metadata": {},
   "outputs": [
    {
     "data": {
      "text/plain": [
       "0.0    22511\n",
       "1.0    22511\n",
       "Name: result_ha_hdc, dtype: int64"
      ]
     },
     "execution_count": 145,
     "metadata": {},
     "output_type": "execute_result"
    }
   ],
   "source": [
    "s['result_ha_hdc'].value_counts()"
   ]
  },
  {
   "cell_type": "code",
   "execution_count": 147,
   "metadata": {
    "scrolled": true
   },
   "outputs": [
    {
     "name": "stderr",
     "output_type": "stream",
     "text": [
      "C:\\Users\\User\\anaconda3\\lib\\site-packages\\pandas\\core\\indexing.py:670: SettingWithCopyWarning: \n",
      "A value is trying to be set on a copy of a slice from a DataFrame\n",
      "\n",
      "See the caveats in the documentation: https://pandas.pydata.org/pandas-docs/stable/user_guide/indexing.html#returning-a-view-versus-a-copy\n",
      "  self._setitem_with_indexer(indexer, value)\n"
     ]
    }
   ],
   "source": [
    "df_turnover_ret = pd.DataFrame()\n",
    "rand_match = []\n",
    "win_loss_balance = []\n",
    "for team in turnover_balance:\n",
    "    s_team = s.loc[s['Team'] == team].dropna()\n",
    "#     for i in range(100):\n",
    "    s_team['return_hdc'] = np.NaN\n",
    "\n",
    "    rand_pick = 'rand_pick' + str(i)\n",
    "    \n",
    "    s_team[rand_pick] = np.random.randint(0, 2, s_team.shape[0])\n",
    "\n",
    "    # create a mask\n",
    "    mask = (s_team['result_ha_hdc'] != s_team[rand_pick])\n",
    "    rand_match.append(mask.mean())\n",
    "\n",
    "    # get the cumsum from the mask\n",
    "    s_team['R'] = mask.cumsum() - mask.cumsum().where(~mask).ffill().fillna(0)\n",
    "    \n",
    "    # use np.where to create the output\n",
    "    s_team['return_hdc'] = np.where(s_team['R'] == 0, (2**(s_team['R'].shift(1) + 1))/2, -(2**s_team['R'])/2)\n",
    "    s_team['return_hdc'].iloc[0] = np.where(s_team['R'].iloc[0] == 0, 1, np.where(s_team['R'].iloc[0] == 1, -1, np.NaN))\n",
    "    \n",
    "    s_team.loc[s_team['return_hdc'] > 0, 'return_hdc'] = s_team['return_hdc']*s_team['rate_hdc']\n",
    "    \n",
    "    balance_tmp = s_team.loc[s_team['return_hdc'] > 0, 'return_hdc'].sum() + s_team.loc[s_team['return_hdc'] < 0, 'return_hdc'].sum()\n",
    "    win_loss_balance.append(balance_tmp)\n",
    "    \n",
    "    df_tmp = pd.DataFrame()\n",
    "    df_tmp.loc[:,team] = s_team['return_hdc']\n",
    "    df_tmp = df_tmp.reset_index(drop = True)\n",
    "    df_turnover_ret = pd.concat([df_turnover_ret, df_tmp], ignore_index = True, axis = 1)\n",
    "\n",
    "df_turnover_ret = df_turnover_ret.fillna(0)\n"
   ]
  },
  {
   "cell_type": "code",
   "execution_count": null,
   "metadata": {},
   "outputs": [],
   "source": []
  },
  {
   "cell_type": "markdown",
   "metadata": {},
   "source": [
    "#### Momentum"
   ]
  },
  {
   "cell_type": "code",
   "execution_count": 442,
   "metadata": {
    "scrolled": true
   },
   "outputs": [
    {
     "name": "stderr",
     "output_type": "stream",
     "text": [
      "C:\\Users\\User\\anaconda3\\lib\\site-packages\\ipykernel_launcher.py:6: SettingWithCopyWarning: \n",
      "A value is trying to be set on a copy of a slice from a DataFrame.\n",
      "Try using .loc[row_indexer,col_indexer] = value instead\n",
      "\n",
      "See the caveats in the documentation: https://pandas.pydata.org/pandas-docs/stable/user_guide/indexing.html#returning-a-view-versus-a-copy\n",
      "  \n",
      "C:\\Users\\User\\anaconda3\\lib\\site-packages\\ipykernel_launcher.py:7: SettingWithCopyWarning: \n",
      "A value is trying to be set on a copy of a slice from a DataFrame.\n",
      "Try using .loc[row_indexer,col_indexer] = value instead\n",
      "\n",
      "See the caveats in the documentation: https://pandas.pydata.org/pandas-docs/stable/user_guide/indexing.html#returning-a-view-versus-a-copy\n",
      "  import sys\n",
      "C:\\Users\\User\\anaconda3\\lib\\site-packages\\ipykernel_launcher.py:8: SettingWithCopyWarning: \n",
      "A value is trying to be set on a copy of a slice from a DataFrame.\n",
      "Try using .loc[row_indexer,col_indexer] = value instead\n",
      "\n",
      "See the caveats in the documentation: https://pandas.pydata.org/pandas-docs/stable/user_guide/indexing.html#returning-a-view-versus-a-copy\n",
      "  \n",
      "C:\\Users\\User\\anaconda3\\lib\\site-packages\\ipykernel_launcher.py:9: SettingWithCopyWarning: \n",
      "A value is trying to be set on a copy of a slice from a DataFrame.\n",
      "Try using .loc[row_indexer,col_indexer] = value instead\n",
      "\n",
      "See the caveats in the documentation: https://pandas.pydata.org/pandas-docs/stable/user_guide/indexing.html#returning-a-view-versus-a-copy\n",
      "  if __name__ == '__main__':\n",
      "C:\\Users\\User\\anaconda3\\lib\\site-packages\\ipykernel_launcher.py:10: SettingWithCopyWarning: \n",
      "A value is trying to be set on a copy of a slice from a DataFrame.\n",
      "Try using .loc[row_indexer,col_indexer] = value instead\n",
      "\n",
      "See the caveats in the documentation: https://pandas.pydata.org/pandas-docs/stable/user_guide/indexing.html#returning-a-view-versus-a-copy\n",
      "  # Remove the CWD from sys.path while we load stuff.\n",
      "C:\\Users\\User\\anaconda3\\lib\\site-packages\\ipykernel_launcher.py:12: SettingWithCopyWarning: \n",
      "A value is trying to be set on a copy of a slice from a DataFrame.\n",
      "Try using .loc[row_indexer,col_indexer] = value instead\n",
      "\n",
      "See the caveats in the documentation: https://pandas.pydata.org/pandas-docs/stable/user_guide/indexing.html#returning-a-view-versus-a-copy\n",
      "  if sys.path[0] == '':\n"
     ]
    }
   ],
   "source": [
    "threshold = 3\n",
    "ret_sum_rd=[]\n",
    "for team in turnover_balance:\n",
    "    s_team = s.loc[s['Team'] == team].dropna()\n",
    "    df_rd = s_team[['Date','result_ha_hdc']]\n",
    "    df_rd['rand_pick'] = np.random.randint(0, 2, df_rd.shape[0])\n",
    "    df_rd['mask'] = df_rd['result_ha_hdc'] == df_rd['rand_pick']\n",
    "    df_rd['R'] = df_rd['mask'].cumsum() - df_rd['mask'].cumsum().where(~df_rd['mask']).ffill().fillna(0)\n",
    "    df_rd['mask'] = df_rd['mask']*1\n",
    "    df_rd['strat'] = np.where(df_rd['mask'] == 0, np.NaN, df_rd['R'])\n",
    "\n",
    "    df_rd['ret'] = np.where( df_rd['strat'] % threshold != 0, 2**((df_rd['strat'] % threshold) - 1), 2**(threshold-1))\n",
    "    df_rd.loc[ df_rd['R'] == 0, 'ret'  ] = -1\n",
    "    df_rd.loc[ (df_rd['R'] == 0) & (0 < df_rd['R'].shift()) & (df_rd['R'].shift() < threshold), 'ret'  ] = -2**(df_rd['ret'].shift())\n",
    "    \n",
    "#     ret_sum_tmp = df_rd['ret'].sum()\n",
    "    ret_sum_tmp = df_rd['ret'].where(df_rd['ret'] > 0).sum()*0.85 + df_rd['ret'].where(df_rd['ret'] < 0).sum()\n",
    "    ret_sum_rd.append(ret_sum_tmp)\n",
    "\n",
    "    "
   ]
  },
  {
   "cell_type": "code",
   "execution_count": 443,
   "metadata": {},
   "outputs": [
    {
     "data": {
      "text/plain": [
       "<matplotlib.axes._subplots.AxesSubplot at 0x10e7f648>"
      ]
     },
     "execution_count": 443,
     "metadata": {},
     "output_type": "execute_result"
    },
    {
     "data": {
      "image/png": "[encoded data removed]",
      "text/plain": [
       "<Figure size 432x288 with 1 Axes>"
      ]
     },
     "metadata": {},
     "output_type": "display_data"
    }
   ],
   "source": [
    "pd.Series(ret_sum_rd).hist(bins = 20)"
   ]
  },
  {
   "cell_type": "code",
   "execution_count": 444,
   "metadata": {},
   "outputs": [
    {
     "data": {
      "text/plain": [
       "count     60.000000\n",
       "mean     -33.130000\n",
       "std       41.303001\n",
       "min     -109.750000\n",
       "25%      -64.200000\n",
       "50%      -32.825000\n",
       "75%      -15.362500\n",
       "max       69.850000\n",
       "dtype: float64"
      ]
     },
     "execution_count": 444,
     "metadata": {},
     "output_type": "execute_result"
    }
   ],
   "source": [
    "pd.Series(ret_sum_rd).describe()"
   ]
  },
  {
   "cell_type": "code",
   "execution_count": 445,
   "metadata": {},
   "outputs": [
    {
     "data": {
      "text/plain": [
       "-1987.8000000000006"
      ]
     },
     "execution_count": 445,
     "metadata": {},
     "output_type": "execute_result"
    }
   ],
   "source": [
    "pd.Series(ret_sum_rd).sum()"
   ]
  },
  {
   "cell_type": "code",
   "execution_count": null,
   "metadata": {},
   "outputs": [],
   "source": [
    "#CHECK THE RANDOM FUNCTION"
   ]
  },
  {
   "cell_type": "code",
   "execution_count": null,
   "metadata": {
    "scrolled": false
   },
   "outputs": [],
   "source": [
    "pd.Series(win_loss_balance).hist(bins = 50)"
   ]
  },
  {
   "cell_type": "code",
   "execution_count": null,
   "metadata": {},
   "outputs": [],
   "source": [
    "pd.Series(rand_match).describe()"
   ]
  },
  {
   "cell_type": "code",
   "execution_count": null,
   "metadata": {
    "scrolled": true
   },
   "outputs": [],
   "source": [
    "df_turnover_ret.sum(axis = 1).describe()"
   ]
  },
  {
   "cell_type": "code",
   "execution_count": null,
   "metadata": {
    "scrolled": true
   },
   "outputs": [],
   "source": [
    "df_turnover_ret.sum(axis = 1).cumsum().describe()"
   ]
  },
  {
   "cell_type": "code",
   "execution_count": null,
   "metadata": {},
   "outputs": [],
   "source": [
    "arr_cum_tmp =  df_turnover_ret.sum(axis = 1).cumsum().describe()"
   ]
  },
  {
   "cell_type": "code",
   "execution_count": null,
   "metadata": {
    "scrolled": true
   },
   "outputs": [],
   "source": [
    "arr_cum_tmp"
   ]
  },
  {
   "cell_type": "code",
   "execution_count": 148,
   "metadata": {
    "scrolled": false
   },
   "outputs": [
    {
     "data": {
      "image/png": "[encoded data removed]",
      "text/plain": [
       "<Figure size 432x288 with 1 Axes>"
      ]
     },
     "metadata": {},
     "output_type": "display_data"
    }
   ],
   "source": [
    "plt_cum_tmp = df_turnover_ret.sum(axis = 1).cumsum().plot()"
   ]
  },
  {
   "cell_type": "code",
   "execution_count": null,
   "metadata": {},
   "outputs": [],
   "source": []
  },
  {
   "cell_type": "markdown",
   "metadata": {},
   "source": [
    "# Strategies - History"
   ]
  },
  {
   "cell_type": "markdown",
   "metadata": {},
   "source": [
    "### Linear"
   ]
  },
  {
   "cell_type": "code",
   "execution_count": null,
   "metadata": {},
   "outputs": [],
   "source": [
    "team_strat_list = []\n",
    "bid_strat_list = []\n",
    "ret_strat_list = []\n",
    "ret_max = []\n",
    "ret_min = []\n",
    "ret_strat_hedge_list = []\n",
    "ret_max_hedge = []\n",
    "ret_min_hedge = []\n",
    "threshold = [1, 2, 3, 4, 5, 6, 7, 8, 9, 10, 11]\n",
    "\n",
    "for team in s['Team'].unique():\n",
    "    odd = s['odd'].loc[s['Team'] == team]\n",
    "    win = s['win'].loc[s['Team'] == team]\n",
    "    draw = s['draw'].loc[s['Team'] == team]\n",
    "    loss = s['loss'].loc[s['Team'] == team]\n",
    "    result_match = s['result_match'].loc[s['Team'] == team]\n",
    "    \n",
    "    s_current_bm = s['result_ha_hdc'].loc[s['Team'] == team]\n",
    "    s_current_bm_shift = s['result_ha_hdc'].loc[s['Team'] == team].shift(1)\n",
    "    s_current_bm_mask = s_current_bm == s_current_bm_shift\n",
    "    s_current_bm_cs = s_current_bm_mask.cumsum() - s_current_bm_mask.cumsum().where(~s_current_bm_mask).ffill().fillna(0)\n",
    "    \n",
    "    df_bm = pd.DataFrame({'result_match' : result_match, 'odd' : odd, 'win' : win, 'draw' : draw, 'loss' : loss, 'current' : s_current_bm, \n",
    "                          'current_shift' : s_current_bm_shift, 'mask' : s_current_bm_mask, 'cs' : s_current_bm_cs})\n",
    "    \n",
    "    df_bm['cs_shift'] = pd.Series((df_bm['cs'] == 0) & (df_bm['cs'].shift(1) > 0))*1\n",
    "    df_bm['cs_shift'] = df_bm['cs_shift'].astype(int)\n",
    "\n",
    "    df_bm['strat'] = np.NaN\n",
    "    df_bm.loc[(df_bm['cs'] > threshold[1]) & pd.notna(df_bm['current'].shift(-1)), 'strat'] = 1 # bid after threshold n + 1 consecutive results\n",
    "    df_bm.loc[(df_bm['cs_shift'] == 1) & (df_bm['cs'].shift(1) > threshold[1]), 'strat'] = 0 # value set equal to the previous line\n",
    "    df_bm.loc[pd.isna(df_bm['current']), 'strat'] = np.NaN\n",
    "\n",
    "    df_bm['strat_exec'] = df_bm['strat'].shift(1)\n",
    "    df_bm['strat_mask'] = df_bm['strat'] == df_bm['strat_exec']\n",
    "    df_bm['strat_cs'] = df_bm['strat_mask'].cumsum() - df_bm['strat_mask'].cumsum().where(~df_bm['strat_mask']).ffill().fillna(0) \n",
    "    df_bm.loc[df_bm['strat_cs'] > 0, 'strat'] = df_bm['strat'] + df_bm['strat_cs']\n",
    "\n",
    "    df_bm['return'] = np.where( df_bm['strat'] == 0, 2, np.where(df_bm['strat'] > 0, -2, np.NaN))\n",
    "    df_bm['return'] = df_bm['return'] / 2\n",
    "    \n",
    "    df_bm['hedge_win'] = np.where(df_bm['odd'] < 0, 0.2*df_bm['win'], 0)\n",
    "    df_bm['hedge_loss'] = np.where(df_bm['odd'] > 0, 0.2*df_bm['loss'], 0)\n",
    "    \n",
    "    df_bm['return_hedge'] = np.where( df_bm['result_match'] == 1, df_bm['return'] + df_bm['hedge_win'] - df_bm['hedge_loss'],\n",
    "                                    np.where(df_bm['result_match'] == 0, df_bm['return'] + df_bm['hedge_loss'] - df_bm['hedge_win'], df_bm['return'] - df_bm['hedge_loss'] - df_bm['hedge_win']))\n",
    "    \n",
    "    team_tmp = team\n",
    "    team_strat_list.append(team_tmp)\n",
    "\n",
    "    bid_strat_tmp = df_bm['return'].count()\n",
    "    bid_strat_list.append(bid_strat_tmp)\n",
    "    \n",
    "    ret_strat_tmp = df_bm['return'].sum()\n",
    "    ret_strat_list.append(ret_strat_tmp)\n",
    "    \n",
    "    ret_max_tmp = df_bm['return'].max()\n",
    "    ret_max.append(ret_max_tmp)\n",
    "\n",
    "    ret_min_tmp = df_bm['return'].min()\n",
    "    ret_min.append(ret_min_tmp)\n",
    "\n",
    "    ret_strat_hedge_tmp = df_bm['return_hedge'].sum()\n",
    "    ret_strat_hedge_list.append(ret_strat_hedge_tmp)\n",
    "    \n",
    "    ret_max_hedge_tmp = df_bm['return_hedge'].max()\n",
    "    ret_max_hedge.append(ret_max_hedge_tmp)\n",
    "\n",
    "    ret_min_hedge_tmp = df_bm['return_hedge'].min()\n",
    "    ret_min_hedge.append(ret_min_hedge_tmp)\n",
    "\n",
    "df_ret_linear = pd.DataFrame({'team' : team_strat_list, 'bid' : bid_strat_list, \n",
    "                              'ret' : ret_strat_list, 'ret_max' : ret_max, 'ret_min' : ret_min,\n",
    "                             'ret_hedge' : ret_strat_hedge_list, 'ret_max_hedge' : ret_max_hedge, 'red_min_hedge' : ret_min_hedge})"
   ]
  },
  {
   "cell_type": "code",
   "execution_count": null,
   "metadata": {
    "scrolled": true
   },
   "outputs": [],
   "source": [
    "##### Review: Should pick Odd = 0?  #####\n",
    "#########################################\n",
    "df_ret_linear"
   ]
  },
  {
   "cell_type": "code",
   "execution_count": null,
   "metadata": {},
   "outputs": [],
   "source": [
    "df_ret_linear['ret'].sum()"
   ]
  },
  {
   "cell_type": "code",
   "execution_count": null,
   "metadata": {},
   "outputs": [],
   "source": [
    "df_ret_linear['ret_hedge'].sum()"
   ]
  },
  {
   "cell_type": "code",
   "execution_count": null,
   "metadata": {},
   "outputs": [],
   "source": [
    "df_ret_linear['bid'].sum()"
   ]
  },
  {
   "cell_type": "code",
   "execution_count": null,
   "metadata": {},
   "outputs": [],
   "source": [
    "# Try trading momentum: If loss, bid against. If win, bid for.\n",
    "# If lose: continue momentum\n",
    "# If win: stop or continue?\n",
    "# Hypothesis: Linear - Momentum ; Exponential - Reversion\n",
    "# Try hedge the trade, either momentum, reversion or both"
   ]
  },
  {
   "cell_type": "code",
   "execution_count": null,
   "metadata": {},
   "outputs": [],
   "source": []
  },
  {
   "cell_type": "markdown",
   "metadata": {},
   "source": [
    "### Exponential"
   ]
  },
  {
   "cell_type": "markdown",
   "metadata": {},
   "source": [
    "#### Reversion"
   ]
  },
  {
   "cell_type": "code",
   "execution_count": null,
   "metadata": {},
   "outputs": [],
   "source": [
    "team_strat_list = []\n",
    "bid_strat_list = []\n",
    "ret_strat_list = []\n",
    "ret_max = []\n",
    "ret_min = []\n",
    "for threshold in [6, 7, 8]: # [2, 3, 4, 5, 6, 7, 8, 9]:\n",
    "\n",
    "    for team in s['Team'].unique():\n",
    "        s_current_bm = s['result_ha_hdc'].loc[s['Team'] == team]\n",
    "        s_current_bm_shift = s['result_ha_hdc'].loc[s['Team'] == team].shift(1)\n",
    "        s_current_bm_mask = s_current_bm == s_current_bm_shift\n",
    "        s_current_bm_cs = s_current_bm_mask.cumsum() - s_current_bm_mask.cumsum().where(~s_current_bm_mask).ffill().fillna(0)\n",
    "        df_bm = pd.DataFrame({'current' : s_current_bm, 'current_shift' : s_current_bm_shift, 'mask' : s_current_bm_mask, \n",
    "                             'cs' : s_current_bm_cs})\n",
    "        df_bm['cs_shift'] = pd.Series((df_bm['cs'] == 0) & (df_bm['cs'].shift(1) > 0))*1\n",
    "        df_bm['cs_shift'] = df_bm['cs_shift'].astype(int)\n",
    "\n",
    "        df_bm['strat'] = np.NaN\n",
    "        df_bm.loc[(df_bm['cs'] > threshold) & pd.notna(df_bm['current'].shift(-1)), 'strat'] = 1 # bid after threshold n + 1 consecutive results (here n = 2)\n",
    "        df_bm.loc[(df_bm['cs_shift'] == 1) & (df_bm['cs'].shift(1) > threshold), 'strat'] = 0 # value set equal to the previous line (here 2)\n",
    "        df_bm.loc[pd.isna(df_bm['current']), 'strat'] = np.NaN\n",
    "\n",
    "        df_bm['strat_exec'] = df_bm['strat'].shift(1)\n",
    "        df_bm['strat_mask'] = df_bm['strat'] == df_bm['strat_exec']\n",
    "        df_bm['strat_cs'] = df_bm['strat_mask'].cumsum() - df_bm['strat_mask'].cumsum().where(~df_bm['strat_mask']).ffill().fillna(0) \n",
    "        df_bm.loc[df_bm['strat_cs'] > 0, 'strat'] = df_bm['strat'] + df_bm['strat_cs']\n",
    "\n",
    "        df_bm['return'] = np.where( df_bm['strat'] == 0, 2**(df_bm['strat'].shift(1) + 1), -2**df_bm['strat'])\n",
    "        df_bm['return'] = df_bm['return'] / 2\n",
    "\n",
    "        team_strat_list.append(team)\n",
    "\n",
    "        bid_strat_tmp = df_bm['return'].count()\n",
    "        bid_strat_list.append(bid_strat_tmp)\n",
    "\n",
    "        ret_strat_tmp = df_bm['return'].sum()\n",
    "        ret_strat_list.append(ret_strat_tmp)\n",
    "\n",
    "        ret_max_tmp = df_bm['return'].max()\n",
    "        ret_max.append(ret_max_tmp)\n",
    "\n",
    "        ret_min_tmp = df_bm['return'].min()\n",
    "        ret_min.append(ret_min_tmp)\n",
    "\n",
    "    df_ret_exp = pd.DataFrame({'team' : team_strat_list, 'bid' : bid_strat_list, 'ret' : ret_strat_list, 'ret_max' : ret_max, 'ret_min' : ret_min})"
   ]
  },
  {
   "cell_type": "code",
   "execution_count": null,
   "metadata": {
    "scrolled": false
   },
   "outputs": [],
   "source": [
    "df_ret_exp"
   ]
  },
  {
   "cell_type": "code",
   "execution_count": null,
   "metadata": {},
   "outputs": [],
   "source": [
    "df_ret_exp['bid'].sum()"
   ]
  },
  {
   "cell_type": "code",
   "execution_count": null,
   "metadata": {
    "scrolled": true
   },
   "outputs": [],
   "source": [
    "df_ret_exp['ret'].sum()"
   ]
  },
  {
   "cell_type": "code",
   "execution_count": null,
   "metadata": {
    "scrolled": false
   },
   "outputs": [],
   "source": [
    "df_ret_exp['ret_max'].mean()"
   ]
  },
  {
   "cell_type": "code",
   "execution_count": null,
   "metadata": {},
   "outputs": [],
   "source": [
    "df_ret_exp['ret_min'].mean()"
   ]
  },
  {
   "cell_type": "code",
   "execution_count": null,
   "metadata": {
    "scrolled": true
   },
   "outputs": [],
   "source": [
    "df_ret_exp['ret_min'].min()"
   ]
  },
  {
   "cell_type": "code",
   "execution_count": null,
   "metadata": {},
   "outputs": [],
   "source": [
    "df_ret_exp['ret_min'].describe()"
   ]
  },
  {
   "cell_type": "code",
   "execution_count": null,
   "metadata": {
    "scrolled": true
   },
   "outputs": [],
   "source": [
    "df_ret_exp.loc[df_ret_exp['bid'] != 0]['ret_min'].hist(bins = 100)"
   ]
  },
  {
   "cell_type": "markdown",
   "metadata": {},
   "source": [
    "#### Momentum"
   ]
  },
  {
   "cell_type": "code",
   "execution_count": null,
   "metadata": {},
   "outputs": [],
   "source": [
    "bid_strat_thresh_h_m = []\n",
    "ret_strat_thresh_h_m = []\n",
    "ret_max_thresh_h_m = []\n",
    "ret_min_thresh_h_m = []\n",
    "ret_turnover_thresh_h_m = []"
   ]
  },
  {
   "cell_type": "code",
   "execution_count": null,
   "metadata": {},
   "outputs": [],
   "source": [
    "for threshold in list(range(2, 10)):\n",
    "    team_strat_list_h_m = []\n",
    "    bid_strat_list_h_m = []\n",
    "    ret_strat_list_h_m = []\n",
    "    ret_max_h_m = []\n",
    "    ret_min_h_m = []\n",
    "    ret_turnover_h_m = []\n",
    "    # for team in ['Bologna']:\n",
    "    for team in s['Team'].unique():\n",
    "        s_current_bm = s['result_ha_hdc'].loc[s['Team'] == team] #.dropna()\n",
    "        s_current_bm_shift = s_current_bm.shift(1)\n",
    "        s_current_bm_mask = s_current_bm == s_current_bm_shift\n",
    "        s_current_bm_cs = s_current_bm_mask.cumsum() - s_current_bm_mask.cumsum().where(~s_current_bm_mask).ffill().fillna(0) + 1\n",
    "\n",
    "        list_1 = np.asarray(s_current_bm_cs.to_list())\n",
    "        list_1_rep = np.asarray(s_current_bm_cs.to_list())\n",
    "        modified_list_1 = np.append(list_1,1) # to always have a \"next 1\"\n",
    "\n",
    "        idx_of_4 = np.where(modified_list_1==threshold)[0]\n",
    "        idx_of_1 = np.where(modified_list_1==1)[0]\n",
    "        idx_of_1_app = np.append(idx_of_1, idx_of_1[-1] + 1)\n",
    "\n",
    "        idx_of_4_followed_by_1 = np.intersect1d(idx_of_4, idx_of_1_app-1)\n",
    "        arr_slice_idx = [(start, np.min(idx_of_1_app[idx_of_1_app>(start+1)])) for start in idx_of_4_followed_by_1]\n",
    "\n",
    "        for start,end in arr_slice_idx:\n",
    "            list_1[start+1:end+1] = 0\n",
    "\n",
    "        list_2 = pd.Series([np.NaN if x != 0 else 1 for x in list_1])\n",
    "        list_2_shift = list_2.shift(1)\n",
    "        list_2_mask = list_2 == list_2_shift\n",
    "        list_2_cs = list_2_mask.cumsum() - list_2_mask.cumsum().where(~list_2_mask).ffill().fillna(0) + 1\n",
    "\n",
    "        df_c_m = pd.DataFrame({'current' : s_current_bm.to_list(), 'cumsum' : s_current_bm_cs.to_list(), 'strat_mo' : list_2.to_list(), 'strat_mo_cum' : list_2_cs.to_list()})\n",
    "        df_c_m['cumsum_shift'] = df_c_m['cumsum'].shift(-1)\n",
    "        df_c_m['cumsum_mask'] = df_c_m['cumsum'] < df_c_m['cumsum_shift']\n",
    "\n",
    "        df_c_m['strat'] = np.NaN\n",
    "        df_c_m.loc[(df_c_m['cumsum'] == threshold) & df_c_m['cumsum_mask'], 'strat'] = 1\n",
    "        df_c_m['strat'] = df_c_m['strat'].shift(1)\n",
    "\n",
    "        df_c_m['strat_mo_filter'] = np.NaN\n",
    "        df_c_m.loc[df_c_m['strat_mo'].notnull() & df_c_m['strat_mo_cum'].notnull(), 'strat_mo_filter'] = df_c_m['strat_mo_cum']\n",
    "        strat_mo_filter = df_c_m['strat_mo_filter']\n",
    "        strat_mo_filter[~np.isnan(strat_mo_filter) & ~np.isnan(np.r_[strat_mo_filter[1:],np.nan])] = strat_mo_filter*-1\n",
    "\n",
    "        df_c_m['return'] = np.where( df_c_m['strat'] == 0, 2**(df_c_m['strat'].shift(1) + 1), -2**df_c_m['strat'])\n",
    "\n",
    "        df_c_m['strat_final'] = np.NaN\n",
    "        df_c_m['strat_final'] = df_c_m['strat_final'].fillna(df_c_m['strat_mo_filter']).fillna(df_c_m['strat'])\n",
    "        df_c_m['return'] = np.where(df_c_m['strat_final'] > 0, 2**(df_c_m['strat_final']), -2**(-df_c_m['strat_final']))\n",
    "        df_c_m['return'] = df_c_m['return'] / 2\n",
    "\n",
    "    #     df_c_m.loc[abs(df_c_m['return']) > 32, 'return'] = np.NaN\n",
    "\n",
    "        team_strat_list_h_m.append(team)\n",
    "\n",
    "        bid_strat_tmp = df_c_m['return'].count()\n",
    "        bid_strat_list_h_m.append(bid_strat_tmp)\n",
    "\n",
    "        ret_strat_tmp = df_c_m['return'].sum()\n",
    "        ret_strat_list_h_m.append(ret_strat_tmp)\n",
    "\n",
    "        ret_max_tmp = df_c_m['return'].max()\n",
    "        ret_max_h_m.append(ret_max_tmp)\n",
    "\n",
    "        ret_min_tmp = df_c_m['return'].min()\n",
    "        ret_min_h_m.append(ret_min_tmp)\n",
    "\n",
    "        ret_turnover_tmp = df_c_m['return'].where(df_c_m['return'] < 0).count()\n",
    "        ret_turnover_h_m.append(ret_turnover_tmp)\n",
    "\n",
    "    bid_strat_thresh_h_m.append(bid_strat_list_h_m)\n",
    "    ret_strat_thresh_h_m.append(ret_strat_list_h_m)\n",
    "    ret_max_thresh_h_m.append(ret_max_h_m)\n",
    "    ret_min_thresh_h_m.append(ret_min_h_m)\n",
    "    ret_turnover_thresh_h_m.append(ret_turnover_h_m)\n",
    "\n",
    "# df_ret_c_m = pd.DataFrame({'team' : team_strat_list_c_m, 'bid' : bid_strat_list_c_m, 'ret' : ret_strat_list_c_m, 'ret_max' : ret_max_c_m, 'ret_min' : ret_min_c_m})"
   ]
  },
  {
   "cell_type": "code",
   "execution_count": null,
   "metadata": {},
   "outputs": [],
   "source": []
  },
  {
   "cell_type": "code",
   "execution_count": null,
   "metadata": {},
   "outputs": [],
   "source": [
    "bid_mean_h_m = []\n",
    "bid_sum_h_m = []\n",
    "ret_sum_h_m = []\n",
    "ret_max_mean_h_m = []\n",
    "ret_min_mean_h_m = []\n",
    "ret_min_min_h_m = []\n",
    "\n",
    "ret_min_h_8 = []\n",
    "ret_min_h_16 = []\n",
    "ret_min_h_32 = []\n",
    "ret_min_h_64 = []\n",
    "ret_min_h_128 = []\n",
    "ret_turnover_mean_h_m = []\n",
    "\n",
    "for i in range(0, 8):\n",
    "    bid_tmp = pd.Series(bid_strat_thresh_h_m[i]).mean()\n",
    "    bid_sum_tmp = pd.Series(bid_strat_thresh_h_m[i]).sum()\n",
    "    ret_tmp = pd.Series(ret_strat_thresh_h_m[i]).sum()\n",
    "    ret_max_tmp = pd.Series(ret_max_thresh_h_m[i]).mean()\n",
    "    ret_min_tmp = pd.Series(ret_min_thresh_h_m[i]).mean()\n",
    "    ret_min_min_tmp = pd.Series(ret_min_thresh_h_m[i]).min()\n",
    "    ret_turnover_tmp =pd.Series(ret_turnover_thresh_h_m[i]).mean()\n",
    "    \n",
    "    ret_min_h_8_tmp = pd.Series(ret_min_thresh_h_m[i]).where(pd.Series(ret_min_thresh_h_m[i]) == -8).value_counts().values\n",
    "    ret_min_h_16_tmp = pd.Series(ret_min_thresh_h_m[i]).where(pd.Series(ret_min_thresh_h_m[i]) == -16).value_counts().values\n",
    "    ret_min_h_32_tmp = pd.Series(ret_min_thresh_h_m[i]).where(pd.Series(ret_min_thresh_h_m[i]) == -32).value_counts().values\n",
    "    ret_min_h_64_tmp = pd.Series(ret_min_thresh_h_m[i]).where(pd.Series(ret_min_thresh_h_m[i]) == -64).value_counts().values\n",
    "    ret_min_h_128_tmp = pd.Series(ret_min_thresh_h_m[i]).where(pd.Series(ret_min_thresh_h_m[i]) == -128).value_counts().values\n",
    "    \n",
    "    bid_mean_h_m.append(bid_tmp)\n",
    "    bid_sum_h_m.append(bid_sum_tmp)\n",
    "    ret_sum_h_m.append(ret_tmp)\n",
    "    ret_max_mean_h_m.append(ret_max_tmp)\n",
    "    ret_min_mean_h_m.append(ret_min_tmp)\n",
    "    ret_min_min_h_m.append(ret_min_min_tmp)\n",
    "    ret_turnover_mean_h_m.append(ret_turnover_tmp)\n",
    "    \n",
    "    ret_min_h_8.append(ret_min_h_8_tmp)\n",
    "    ret_min_h_16.append(ret_min_h_16_tmp)\n",
    "    ret_min_h_32.append(ret_min_h_32_tmp)\n",
    "    ret_min_h_64.append(ret_min_h_64_tmp)\n",
    "    ret_min_h_128.append(ret_min_h_128_tmp)"
   ]
  },
  {
   "cell_type": "code",
   "execution_count": null,
   "metadata": {},
   "outputs": [],
   "source": [
    "df_summary_h = pd.DataFrame({'threshold' : range(2, 10) ,'bid_mean' : bid_mean_h_m, 'bid_sum' : bid_sum_h_m, 'ret_sum' : ret_sum_h_m, 'ret_max_mean' : ret_max_mean_h_m,\n",
    "                          'ret_min_mean' : ret_min_mean_h_m, 'ret_min_min' : ret_min_min_h_m, 'ret_turnover_mean' : ret_turnover_mean_h_m,\n",
    "                          'ret_min_8' : ret_min_h_8, 'ret_min_16' : ret_min_h_16, 'ret_min_32' : ret_min_h_32,\n",
    "                          'ret_min_64' : ret_min_h_64, 'ret_min_128' : ret_min_h_128})"
   ]
  },
  {
   "cell_type": "code",
   "execution_count": null,
   "metadata": {},
   "outputs": [],
   "source": [
    "df_summary_h"
   ]
  },
  {
   "cell_type": "markdown",
   "metadata": {},
   "source": [
    "# Strategies - Current (Exponential)"
   ]
  },
  {
   "cell_type": "markdown",
   "metadata": {},
   "source": [
    "### Reversion"
   ]
  },
  {
   "cell_type": "code",
   "execution_count": 611,
   "metadata": {},
   "outputs": [],
   "source": [
    "bid_strat_thresh_c_r = []\n",
    "ret_strat_thresh_c_r = []\n",
    "ret_max_thresh_c_r = []\n",
    "ret_min_thresh_c_r = []\n",
    "ret_turnover_thresh_c_r = []\n",
    "\n",
    "ret_cum_c_r = []\n",
    "plt_cum_c_r = []\n",
    "ret_cum_c_r_list = []"
   ]
  },
  {
   "cell_type": "code",
   "execution_count": 610,
   "metadata": {},
   "outputs": [],
   "source": [
    "season_date_begin = ['2005-04-01', '2006-04-01', '2007-04-01', '2008-04-01', '2010-04-01', '2011-04-01', '2012-04-01', '2013-04-01', '2014-04-01', '2015-04-01', '2016-04-01', '2017-04-01', '2018-04-01', '2019-04-01']\n",
    "season_date_end   = ['2006-06-30', '2007-06-30', '2008-06-30', '2009-06-30', '2011-06-30', '2012-06-30', '2013-06-30', '2014-06-30', '2015-06-30', '2016-06-30', '2017-06-30', '2018-06-30', '2019-06-30', '2020-06-30']\n"
   ]
  },
  {
   "cell_type": "code",
   "execution_count": null,
   "metadata": {},
   "outputs": [],
   "source": []
  },
  {
   "cell_type": "code",
   "execution_count": 612,
   "metadata": {
    "scrolled": false
   },
   "outputs": [
    {
     "data": {
      "image/png": "[encoded data removed]",
      "text/plain": [
       "<Figure size 432x288 with 1 Axes>"
      ]
     },
     "metadata": {},
     "output_type": "display_data"
    },
    {
     "data": {
      "image/png": "[encoded data removed]",
      "text/plain": [
       "<Figure size 432x288 with 1 Axes>"
      ]
     },
     "metadata": {},
     "output_type": "display_data"
    },
    {
     "data": {
      "image/png": "[encoded data removed]",
      "text/plain": [
       "<Figure size 432x288 with 1 Axes>"
      ]
     },
     "metadata": {},
     "output_type": "display_data"
    },
    {
     "data": {
      "image/png": "[encoded data removed]",
      "text/plain": [
       "<Figure size 432x288 with 1 Axes>"
      ]
     },
     "metadata": {},
     "output_type": "display_data"
    },
    {
     "data": {
      "image/png": "[encoded data removed]",
      "text/plain": [
       "<Figure size 432x288 with 1 Axes>"
      ]
     },
     "metadata": {},
     "output_type": "display_data"
    },
    {
     "data": {
      "image/png": "[encoded data removed]",
      "text/plain": [
       "<Figure size 432x288 with 1 Axes>"
      ]
     },
     "metadata": {},
     "output_type": "display_data"
    },
    {
     "data": {
      "image/png": "[encoded data removed]",
      "text/plain": [
       "<Figure size 432x288 with 1 Axes>"
      ]
     },
     "metadata": {},
     "output_type": "display_data"
    },
    {
     "data": {
      "image/png": "[encoded data removed]",
      "text/plain": [
       "<Figure size 432x288 with 1 Axes>"
      ]
     },
     "metadata": {},
     "output_type": "display_data"
    }
   ],
   "source": [
    "\n",
    "# for threshold in [5, 6]:\n",
    "for threshold in list(range(2, 10)):\n",
    "    team_strat_list_c_r = []\n",
    "    bid_strat_list_c_r = []\n",
    "    ret_strat_list_c_r = []\n",
    "    ret_max_c_r = []\n",
    "    ret_min_c_r = []\n",
    "    ret_turnover_c_r = []\n",
    "#     df_ret_cum = pd.DataFrame({'Date' : df_all.index}).drop_duplicates().sort_values(by='Date')\n",
    "    plt.figure()\n",
    "\n",
    "    for season_ind in [7]: # list(range(0, len(season_date_begin))):\n",
    "        df_ret_cum = pd.DataFrame({'Date' : df_all[season_date_begin[season_ind] : season_date_end[season_ind]].index}).drop_duplicates().sort_values(by='Date')\n",
    "        \n",
    "        s_season = s.set_index('Date')[season_date_begin[season_ind] : season_date_end[season_ind]].reset_index()\n",
    "\n",
    "    \n",
    "        for team in s_season['Team'].unique():\n",
    "            df_s_c_r = s_season.loc[s_season['Team'] == team]\n",
    "            df_s_c_r = df_s_c_r[['Date','result_ha_hdc', 'rate_hdc', 'ret_rate_hdc']] #.set_index('Date')\n",
    "            df_s_c_r = df_s_c_r.rename(columns = {'result_ha_hdc' : 'current'})\n",
    "\n",
    "            df_c_r = df_s_c_r.dropna()\n",
    "            df_c_r['current_shift'] = df_c_r['current'].shift(1)\n",
    "            df_c_r['mask'] = df_c_r['current'] == df_c_r['current_shift']\n",
    "            df_c_r['cs'] = df_c_r['mask'].cumsum() - df_c_r['mask'].cumsum().where(~df_c_r['mask']).ffill().fillna(0) + 1\n",
    "\n",
    "            df_c_r['cs_shift'] = pd.Series((df_c_r['cs'] == 0) & (df_c_r['cs'].shift(1) > 0))*1\n",
    "            df_c_r['cs_shift'] = df_c_r['cs_shift'].astype(int)\n",
    "\n",
    "            df_c_r['strat'] = np.NaN\n",
    "            df_c_r.loc[(df_c_r['cs'] > threshold) & pd.notna(df_c_r['current'].shift(-1)), 'strat'] = (df_c_r['cs'] - threshold) # bid after threshold n\n",
    "            if df_c_r['cs'].iloc[[-1]].values[0] > threshold:\n",
    "                df_c_r['strat'].iloc[[-1]] = df_c_r['cs'].iloc[[-1]] - threshold\n",
    "            df_c_r.loc[(df_c_r['cs'] == 1) & (df_c_r['cs'].shift(1) >= threshold), 'strat'] = 0\n",
    "\n",
    "            df_c_r['return'] = np.where((df_c_r['strat'] == 0) & (pd.notna(df_c_r['strat'].shift(1))), 2**(df_c_r['strat'].shift(1) + 1), \n",
    "                                       np.where((df_c_r['strat'] == 0) & (pd.isna(df_c_r['strat'].shift(1))), 2, -2**df_c_r['strat']))\n",
    "            df_c_r['return'] = df_c_r['return'] / 2\n",
    "            df_c_r.loc[df_c_r['return'] > 0, 'return'] = df_c_r['return'] * df_c_r['rate_hdc'] \n",
    "            df_c_r['return'] = df_c_r['return']* df_c_r['ret_rate_hdc']\n",
    "\n",
    "            team_strat_list_c_r.append(team)\n",
    "\n",
    "            bid_strat_tmp = df_c_r['return'].count()\n",
    "            bid_strat_list_c_r.append(bid_strat_tmp)\n",
    "\n",
    "            ret_strat_tmp = df_c_r['return'].sum()\n",
    "            ret_strat_list_c_r.append(ret_strat_tmp)\n",
    "\n",
    "            ret_max_tmp = df_c_r['return'].max()\n",
    "            ret_max_c_r.append(ret_max_tmp)\n",
    "\n",
    "            ret_min_tmp = df_c_r['return'].min()\n",
    "            ret_min_c_r.append(ret_min_tmp)\n",
    "\n",
    "            if pd.notna(df_c_r['return']).sum() == 0:\n",
    "                ret_turnover_tmp = np.NaN\n",
    "            else:\n",
    "                ret_turnover_tmp = df_c_r['return'].where(df_c_r['return'] < 0).count()\n",
    "            ret_turnover_c_r.append(ret_turnover_tmp)\n",
    "\n",
    "            df_ret_cum_tmp = df_s_c_r.merge(df_c_r, on = 'Date', how = 'left')\n",
    "            df_ret_cum_tmp = df_ret_cum_tmp.rename(columns = {'return': team})\n",
    "            df_ret_cum_tmp = df_ret_cum_tmp[['Date', team]].sort_values(by = 'Date')\n",
    "\n",
    "            df_ret_cum = df_ret_cum.merge(df_ret_cum_tmp, on = 'Date', how = 'left')\n",
    "\n",
    "        bid_strat_thresh_c_r.append(bid_strat_list_c_r)\n",
    "        ret_strat_thresh_c_r.append(ret_strat_list_c_r)\n",
    "        ret_max_thresh_c_r.append(ret_max_c_r)\n",
    "        ret_min_thresh_c_r.append(ret_min_c_r)\n",
    "        ret_turnover_thresh_c_r.append(ret_turnover_c_r)\n",
    "\n",
    "        df_ret_cum = df_ret_cum.set_index('Date') #.fillna(0)\n",
    "\n",
    "        ret_cum_c_r_tmp = df_ret_cum.sum(axis = 1).cumsum().describe()\n",
    "        ret_cum_c_r.append(ret_cum_c_r_tmp)\n",
    "        ret_cum_c_r_l_tmp = df_ret_cum.sum(axis = 1).cumsum()\n",
    "        ret_cum_c_r_list.append(ret_cum_c_r_l_tmp)\n",
    "\n",
    "        plt.plot(df_ret_cum.sum(axis=1).cumsum()) #, title = 'threshold = {}'.format(threshold)) #, figsize=(20,5),grid=True)\n",
    "        plt.suptitle('Threshold = {}'.format(threshold))\n",
    "\n",
    "        df_ret_c_r = pd.DataFrame({'team' : team_strat_list_c_r, 'bid' : bid_strat_list_c_r, 'ret' : ret_strat_list_c_r, 'ret_max' : ret_max_c_r, 'ret_min' : ret_min_c_r})"
   ]
  },
  {
   "cell_type": "code",
   "execution_count": 490,
   "metadata": {},
   "outputs": [],
   "source": [
    "# df_ret_cum.to_csv(root_dir + '//ret_cum_r_th_5.csv')\n",
    "# s.to_csv(root_dir + '//stack_all.csv')"
   ]
  },
  {
   "cell_type": "code",
   "execution_count": 488,
   "metadata": {
    "scrolled": false
   },
   "outputs": [
    {
     "name": "stdout",
     "output_type": "stream",
     "text": [
      "Bid after 2 matches, total bids = 22237, mean = 2862.748329741382, min = -76.32000000000001, max = 6391.66\n",
      "Bid after 3 matches, total bids = 10894, mean = 1477.6746012931014, min = -35.01000000000001, max = 3299.964999999999\n",
      "Bid after 4 matches, total bids = 5294, mean = 753.158441810345, min = -21.250000000000007, max = 1677.0900000000013\n",
      "Bid after 5 matches, total bids = 2563, mean = 380.98640948275835, min = -10.720000000000002, max = 841.4699999999999\n",
      "Bid after 6 matches, total bids = 1242, mean = 199.70122198275863, min = -2.480000000000002, max = 425.63499999999937\n",
      "Bid after 7 matches, total bids = 594, mean = 105.85817025862019, min = 0.0, max = 216.33999999999992\n",
      "Bid after 8 matches, total bids = 280, mean = 44.687176724138226, min = 0.0, max = 93.39499999999995\n",
      "Bid after 9 matches, total bids = 142, mean = 26.799359913793154, min = 0.0, max = 54.76999999999998\n"
     ]
    }
   ],
   "source": [
    "# for thrh in [2]: \n",
    "for thrh in list(range(2, 10)):\n",
    "    print('Bid after {} matches, total bids = {}, mean = {}, min = {}, max = {}'.format(str(thrh), pd.Series(bid_strat_thresh_c_r[thrh - 2]).sum(),\n",
    "                                                                             ret_cum_c_r[thrh - 2]['mean'], ret_cum_c_r[thrh - 2]['min'], \n",
    "                                                                             ret_cum_c_r[thrh - 2]['max']))"
   ]
  },
  {
   "cell_type": "code",
   "execution_count": null,
   "metadata": {},
   "outputs": [],
   "source": [
    "bid_mean_c_r = []\n",
    "bid_sum_c_r = []\n",
    "ret_sum_c_r = []\n",
    "ret_max_mean_c_r = []\n",
    "ret_min_mean_c_r = []\n",
    "ret_min_min_c_r = []\n",
    "ret_turnover_mean_c_r = []\n",
    "\n",
    "ret_min_c_r_8 = []\n",
    "ret_min_c_r_16 = []\n",
    "ret_min_c_r_32 = []\n",
    "ret_min_c_r_64 = []\n",
    "ret_min_c_r_128 = []\n",
    "\n",
    "for i in range(0, 8):\n",
    "    bid_tmp = pd.Series(bid_strat_thresh_c_r[i]).mean()\n",
    "    bid_sum_tmp = pd.Series(bid_strat_thresh_c_r[i]).sum()\n",
    "    ret_tmp = pd.Series(ret_strat_thresh_c_r[i]).sum()\n",
    "    ret_max_tmp = pd.Series(ret_max_thresh_c_r[i]).mean()\n",
    "    ret_min_tmp = pd.Series(ret_min_thresh_c_r[i]).mean()\n",
    "    ret_min_min_tmp = pd.Series(ret_min_thresh_c_r[i]).min()\n",
    "    ret_turnover_tmp =pd.Series(ret_turnover_thresh_c_r[i]).mean() \n",
    "    \n",
    "    ret_min_8_tmp = pd.Series(ret_min_thresh_c_r[i]).where(pd.Series(ret_min_thresh_c_r[i]) == -8).value_counts().values\n",
    "    ret_min_16_tmp = pd.Series(ret_min_thresh_c_r[i]).where(pd.Series(ret_min_thresh_c_r[i]) == -16).value_counts().values\n",
    "    ret_min_32_tmp = pd.Series(ret_min_thresh_c_r[i]).where(pd.Series(ret_min_thresh_c_r[i]) == -32).value_counts().values\n",
    "    ret_min_64_tmp = pd.Series(ret_min_thresh_c_r[i]).where(pd.Series(ret_min_thresh_c_r[i]) == -64).value_counts().values\n",
    "    ret_min_128_tmp = pd.Series(ret_min_thresh_c_r[i]).where(pd.Series(ret_min_thresh_c_r[i]) == -128).value_counts().values\n",
    "    \n",
    "    bid_mean_c_r.append(bid_tmp)\n",
    "    bid_sum_c_r.append(bid_sum_tmp)\n",
    "    ret_sum_c_r.append(ret_tmp)\n",
    "    ret_max_mean_c_r.append(ret_max_tmp)\n",
    "    ret_min_mean_c_r.append(ret_min_tmp)\n",
    "    ret_min_min_c_r.append(ret_min_min_tmp)\n",
    "    ret_turnover_mean_c_r.append(ret_turnover_tmp)\n",
    "    \n",
    "    ret_min_c_r_8.append(ret_min_8_tmp)\n",
    "    ret_min_c_r_16.append(ret_min_16_tmp)\n",
    "    ret_min_c_r_32.append(ret_min_32_tmp)\n",
    "    ret_min_c_r_64.append(ret_min_64_tmp)\n",
    "    ret_min_c_r_128.append(ret_min_128_tmp)"
   ]
  },
  {
   "cell_type": "code",
   "execution_count": null,
   "metadata": {
    "scrolled": true
   },
   "outputs": [],
   "source": [
    "df_c_r_summary = pd.DataFrame({'threshold' : range(2, 10), 'bid_mean' : bid_mean_c_r, 'bid_sum' : bid_sum_c_r, 'ret_sum' : ret_sum_c_r, 'ret_max_mean' : ret_max_mean_c_r,\n",
    "                          'ret_min_mean' : ret_min_mean_c_r, 'ret_min_min' : ret_min_min_c_r, 'ret_turnover_mean' : ret_turnover_mean_c_r,\n",
    "                          'ret_min_8' : ret_min_c_r_8, 'ret_min_16' : ret_min_c_r_16, 'ret_min_32' : ret_min_c_r_32,\n",
    "                          'ret_min_64' : ret_min_c_r_64, 'ret_min_128' : ret_min_c_r_128})"
   ]
  },
  {
   "cell_type": "code",
   "execution_count": null,
   "metadata": {
    "scrolled": false
   },
   "outputs": [],
   "source": [
    "# History\n",
    "df_c_r_summary"
   ]
  },
  {
   "cell_type": "code",
   "execution_count": 650,
   "metadata": {
    "scrolled": true
   },
   "outputs": [],
   "source": [
    "df_all['scores'] = df_all['FTHG'].astype(int).astype(str) + '-' + df_all['FTAG'].astype(int).astype(str)"
   ]
  },
  {
   "cell_type": "code",
   "execution_count": 656,
   "metadata": {
    "scrolled": true
   },
   "outputs": [],
   "source": [
    "df_all['scores_total'] = df_all['FTHG'].astype(int) + df_all['FTAG'].astype(int)"
   ]
  },
  {
   "cell_type": "code",
   "execution_count": 658,
   "metadata": {},
   "outputs": [],
   "source": [
    "s_scores = (df_all.filter(like = 'Team').stack()\n",
    "         .reset_index(level=-1, drop=True)\n",
    "         .reset_index(name='Team'))"
   ]
  },
  {
   "cell_type": "code",
   "execution_count": 660,
   "metadata": {},
   "outputs": [],
   "source": [
    "s_scores.loc[::2, 'scores_total'] = df_all.scores_total.values\n",
    "s_scores.loc[1::2,'scores_total'] = df_all.scores_total.values\n"
   ]
  },
  {
   "cell_type": "code",
   "execution_count": null,
   "metadata": {},
   "outputs": [],
   "source": [
    "# s_scores.loc[s_scores['Team']=='Bayern Munich']['scores_total'].value_counts()"
   ]
  },
  {
   "cell_type": "code",
   "execution_count": 665,
   "metadata": {},
   "outputs": [],
   "source": [
    "top_list = ['Bayern Munich', 'Dortmund', 'Man United', 'Man City', 'Chelsea', 'Liverpool', 'Tottenham', 'Barcelona', 'Real Madrid', 'Juventus']"
   ]
  },
  {
   "cell_type": "code",
   "execution_count": 1,
   "metadata": {},
   "outputs": [
    {
     "ename": "NameError",
     "evalue": "name 's_scores' is not defined",
     "output_type": "error",
     "traceback": [
      "\u001b[1;31m---------------------------------------------------------------------------\u001b[0m",
      "\u001b[1;31mNameError\u001b[0m                                 Traceback (most recent call last)",
      "\u001b[1;32m<ipython-input-1-1e4f754aaa10>\u001b[0m in \u001b[0;36m<module>\u001b[1;34m\u001b[0m\n\u001b[1;32m----> 1\u001b[1;33m \u001b[1;32mfor\u001b[0m \u001b[0mteam\u001b[0m \u001b[1;32min\u001b[0m \u001b[0ms_scores\u001b[0m\u001b[1;33m[\u001b[0m\u001b[1;34m'Team'\u001b[0m\u001b[1;33m]\u001b[0m\u001b[1;33m.\u001b[0m\u001b[0munique\u001b[0m\u001b[1;33m:\u001b[0m\u001b[1;33m\u001b[0m\u001b[1;33m\u001b[0m\u001b[0m\n\u001b[0m\u001b[0;32m      2\u001b[0m     \u001b[0mprint\u001b[0m\u001b[1;33m(\u001b[0m\u001b[1;34m'{} : {}'\u001b[0m\u001b[1;33m.\u001b[0m\u001b[0mformat\u001b[0m\u001b[1;33m(\u001b[0m\u001b[0mteam\u001b[0m\u001b[1;33m,\u001b[0m \u001b[0mstr\u001b[0m\u001b[1;33m(\u001b[0m\u001b[0ms_scores\u001b[0m\u001b[1;33m.\u001b[0m\u001b[0mloc\u001b[0m\u001b[1;33m[\u001b[0m\u001b[0ms_scores\u001b[0m\u001b[1;33m[\u001b[0m\u001b[1;34m'Team'\u001b[0m\u001b[1;33m]\u001b[0m\u001b[1;33m==\u001b[0m\u001b[0mteam\u001b[0m\u001b[1;33m]\u001b[0m\u001b[1;33m[\u001b[0m\u001b[1;34m'scores_total'\u001b[0m\u001b[1;33m]\u001b[0m\u001b[1;33m.\u001b[0m\u001b[0mmean\u001b[0m\u001b[1;33m(\u001b[0m\u001b[1;33m)\u001b[0m\u001b[1;33m)\u001b[0m\u001b[1;33m)\u001b[0m\u001b[1;33m)\u001b[0m\u001b[1;33m\u001b[0m\u001b[1;33m\u001b[0m\u001b[0m\n\u001b[0;32m      3\u001b[0m \u001b[1;33m\u001b[0m\u001b[0m\n",
      "\u001b[1;31mNameError\u001b[0m: name 's_scores' is not defined"
     ]
    }
   ],
   "source": [
    "for team in s_scores['Team'].unique:\n",
    "    print('{} : {}'.format(team, str(s_scores.loc[s_scores['Team']==team]['scores_total'].mean())))\n",
    "            "
   ]
  },
  {
   "cell_type": "code",
   "execution_count": 668,
   "metadata": {},
   "outputs": [
    {
     "data": {
      "text/plain": [
       "2     6158\n",
       "3     5442\n",
       "1     4396\n",
       "4     3689\n",
       "0     1977\n",
       "5     1936\n",
       "6      897\n",
       "7      313\n",
       "8      145\n",
       "9       41\n",
       "10      11\n",
       "11       3\n",
       "12       1\n",
       "Name: scores_total, dtype: int64"
      ]
     },
     "execution_count": 668,
     "metadata": {},
     "output_type": "execute_result"
    }
   ],
   "source": [
    "df_all['scores_total'].value_counts()"
   ]
  },
  {
   "cell_type": "code",
   "execution_count": null,
   "metadata": {},
   "outputs": [],
   "source": []
  },
  {
   "cell_type": "code",
   "execution_count": null,
   "metadata": {},
   "outputs": [],
   "source": []
  },
  {
   "cell_type": "markdown",
   "metadata": {},
   "source": [
    "### Momentum"
   ]
  },
  {
   "cell_type": "code",
   "execution_count": null,
   "metadata": {},
   "outputs": [],
   "source": [
    "bid_strat_thresh_c_m = []\n",
    "ret_strat_thresh_c_m = []\n",
    "ret_max_thresh_c_m = []\n",
    "ret_min_thresh_c_m = []\n",
    "ret_turnover_thresh_c_m = []\n",
    "ret_cum_c_m = []\n",
    "plt_cum_c_m = []\n",
    "ret_cum_c_m_list = []"
   ]
  },
  {
   "cell_type": "code",
   "execution_count": null,
   "metadata": {},
   "outputs": [],
   "source": []
  },
  {
   "cell_type": "code",
   "execution_count": null,
   "metadata": {
    "scrolled": false
   },
   "outputs": [],
   "source": [
    "# for threshold in [3]:\n",
    "for threshold in list(range(2, 10)):\n",
    "    team_strat_list_c_m = []\n",
    "    bid_strat_list_c_m = []\n",
    "    ret_strat_list_c_m = []\n",
    "    ret_max_c_m = []\n",
    "    ret_min_c_m = []\n",
    "    ret_turnover_c_m = []\n",
    "    df_ret_cum = pd.DataFrame()\n",
    "\n",
    "    for team in s['Team'].unique():\n",
    "        s_c_m = s['result_ha_hdc'].loc[s['Team'] == team].dropna()\n",
    "        s_c_m_shift = s_c_m.shift(1)\n",
    "        s_c_m_mask = s_c_m == s_c_m_shift\n",
    "        s_c_m_cs = s_c_m_mask.cumsum() - s_c_m_mask.cumsum().where(~s_c_m_mask).ffill().fillna(0) + 1\n",
    "\n",
    "        list_1 = np.asarray(s_c_m_cs.to_list())\n",
    "        list_1_rep = np.asarray(s_c_m_cs.to_list())\n",
    "        modified_list_1 = np.append(list_1,1) # to always have a \"next 1\"\n",
    "\n",
    "        idx_of_4 = np.where(modified_list_1==threshold)[0]\n",
    "        \n",
    "        idx_of_4_s = pd.Series(idx_of_4.copy())\n",
    "        idx_of_4_s.loc[idx_of_4_s.groupby(idx_of_4_s.diff().ne(3).cumsum()).cumcount() % 2 == 1] = -1\n",
    "\n",
    "        idx_of_4_new = [x for x in idx_of_4_s if x != -1]\n",
    "        idx_of_1 = np.where(modified_list_1==1)[0]    \n",
    "        idx_of_4_followed_by_1 = np.intersect1d(idx_of_4_new, idx_of_1 - 1)\n",
    "        \n",
    "        arr_slice_idx = []\n",
    "        for start in idx_of_4_followed_by_1:\n",
    "            if start < len(list_1_rep) - 1:\n",
    "                arr_slice_tmp = (start, np.min(idx_of_1[idx_of_1>(start+1)]))\n",
    "                arr_slice_idx.append(arr_slice_tmp)\n",
    "            \n",
    "        for start,end in arr_slice_idx:\n",
    "            list_1[start+1:end+1] = 0\n",
    "            \n",
    "        list_2 = pd.Series([np.NaN if x != 0 else 1 for x in list_1])\n",
    "        list_2_shift = list_2.shift(1)\n",
    "        list_2_mask = list_2 == list_2_shift\n",
    "        list_2_cs = list_2_mask.cumsum() - list_2_mask.cumsum().where(~list_2_mask).ffill().fillna(0) + 1\n",
    "\n",
    "        df_c_m = pd.DataFrame({'current' : s_c_m.to_list(), 'cumsum' : s_c_m_cs.to_list(), 'strat_mo' : list_2.to_list(), 'strat_mo_cum' : list_2_cs.to_list()})\n",
    "        df_c_m['cumsum_shift'] = df_c_m['cumsum'].shift(-1)\n",
    "        df_c_m['cumsum_mask'] = df_c_m['cumsum'] < df_c_m['cumsum_shift']\n",
    "\n",
    "        df_c_m['strat'] = np.NaN\n",
    "        df_c_m.loc[(df_c_m['cumsum'] == threshold) & df_c_m['cumsum_mask'], 'strat'] = 1\n",
    "        df_c_m['strat'] = df_c_m['strat'].shift(1)\n",
    "\n",
    "        df_c_m['strat_mo_filter'] = np.NaN\n",
    "        df_c_m.loc[df_c_m['strat_mo'].notnull() & df_c_m['strat_mo_cum'].notnull(), 'strat_mo_filter'] = df_c_m['strat_mo_cum']\n",
    "        strat_mo_filter = df_c_m['strat_mo_filter']\n",
    "        strat_mo_filter[~np.isnan(strat_mo_filter) & ~np.isnan(np.r_[strat_mo_filter[1:],np.nan])] = strat_mo_filter*-1\n",
    "\n",
    "        df_c_m['return'] = np.where( df_c_m['strat'] == 0, 2**(df_c_m['strat'].shift(1) + 1), -2**df_c_m['strat'])\n",
    "\n",
    "        df_c_m['strat_final'] = np.NaN\n",
    "        df_c_m['strat_final'] = df_c_m['strat_final'].fillna(df_c_m['strat_mo_filter']).fillna(df_c_m['strat'])\n",
    "        df_c_m['return'] = np.where(df_c_m['strat_final'] > 0, 2**(df_c_m['strat_final']), -2**(-df_c_m['strat_final']))\n",
    "        df_c_m['return'] = df_c_m['return'] / 2\n",
    "\n",
    "    #     df_c_m.loc[abs(df_c_m['return']) > 32, 'return'] = np.NaN\n",
    "\n",
    "        team_strat_list_c_m.append(team)\n",
    "\n",
    "        bid_strat_tmp = df_c_m['return'].count()\n",
    "        bid_strat_list_c_m.append(bid_strat_tmp)\n",
    "\n",
    "        ret_strat_tmp = df_c_m['return'].sum()\n",
    "        ret_strat_list_c_m.append(ret_strat_tmp)\n",
    "\n",
    "        ret_max_tmp = df_c_m['return'].max()\n",
    "        ret_max_c_m.append(ret_max_tmp)\n",
    "\n",
    "        ret_min_tmp = df_c_m['return'].min()\n",
    "        ret_min_c_m.append(ret_min_tmp)\n",
    "\n",
    "        if pd.notna(df_c_m['return']).sum() == 0:\n",
    "            ret_turnover_tmp = np.NaN\n",
    "        else:\n",
    "            ret_turnover_tmp = df_c_m['return'].where(df_c_m['return'] < 0).count()\n",
    "        ret_turnover_c_m.append(ret_turnover_tmp)\n",
    "        \n",
    "        df_ret_cum_tmp = pd.DataFrame()\n",
    "        df_ret_cum_tmp.loc[:, team] = df_c_m['return']\n",
    "        df_ret_cum_tmp = df_ret_cum_tmp.reset_index(drop = True)\n",
    "        df_ret_cum = pd.concat([df_ret_cum, df_ret_cum_tmp], ignore_index = True, axis = 1)\n",
    "\n",
    "    bid_strat_thresh_c_m.append(bid_strat_list_c_m)\n",
    "    ret_strat_thresh_c_m.append(ret_strat_list_c_m)\n",
    "    ret_max_thresh_c_m.append(ret_max_c_m)\n",
    "    ret_min_thresh_c_m.append(ret_min_c_m)\n",
    "    ret_turnover_thresh_c_m.append(ret_turnover_c_m)\n",
    "    \n",
    "    df_ret_cum = df_ret_cum.fillna(0)\n",
    "    \n",
    "    ret_cum_c_m_tmp = df_ret_cum.sum(axis = 1).cumsum().describe()\n",
    "    ret_cum_c_m.append(ret_cum_c_m_tmp)\n",
    "    ret_cum_c_m_l_tmp = df_ret_cum.sum(axis = 1).cumsum()\n",
    "    ret_cum_c_m_list.append(ret_cum_c_m_l_tmp)\n",
    "    \n",
    "    plt_cum_c_r_tmp = df_ret_cum.sum(axis=1).cumsum().plot()\n",
    "    plt_cum_c_r.append(plt_cum_c_r_tmp)\n",
    "\n",
    "# df_ret_c_m = pd.DataFrame({'team' : team_strat_list_c_m, 'bid' : bid_strat_list_c_m, 'ret' : ret_strat_list_c_m, 'ret_max' : ret_max_c_m, 'ret_min' : ret_min_c_m})"
   ]
  },
  {
   "cell_type": "code",
   "execution_count": null,
   "metadata": {},
   "outputs": [],
   "source": []
  },
  {
   "cell_type": "code",
   "execution_count": null,
   "metadata": {
    "scrolled": true
   },
   "outputs": [],
   "source": [
    "for thrh in list(range(2, 10)):\n",
    "    print('Bid after {} matches, total bids = {}, mean = {}, min = {}, max = {}'.format(str(thrh), pd.Series(bid_strat_thresh_c_m[thrh - 2]).sum(),\n",
    "                                                                             ret_cum_c_m[thrh - 2]['mean'], ret_cum_c_m[thrh - 2]['min'], \n",
    "                                                                             ret_cum_c_m[thrh - 2]['max']))"
   ]
  },
  {
   "cell_type": "code",
   "execution_count": null,
   "metadata": {},
   "outputs": [],
   "source": [
    "# History\n",
    "# Bid after 2 matches, total bids = 18390, mean = 5474.157676348547, min = -3508.0, max = 8920.0\n",
    "# Bid after 3 matches, total bids = 10198, mean = 3007.246887966805, min = -5177.0, max = 4952.0\n",
    "# Bid after 4 matches, total bids = 5187, mean = 1577.966804979253, min = -939.0, max = 2557.0\n",
    "# Bid after 5 matches, total bids = 2589, mean = 785.7551867219917, min = -73.0, max = 1277.0\n",
    "# Bid after 6 matches, total bids = 1284, mean = 392.35477178423236, min = -806.0, max = 635.0\n",
    "# Bid after 7 matches, total bids = 652, mean = 192.69709543568464, min = -462.0, max = 310.0\n",
    "# Bid after 8 matches, total bids = 266, mean = 84.16597510373444, min = -450.0, max = 137.0\n",
    "# Bid after 9 matches, total bids = 148, mean = 47.518672199170126, min = -12.0, max = 77.0"
   ]
  },
  {
   "cell_type": "code",
   "execution_count": null,
   "metadata": {},
   "outputs": [],
   "source": [
    "# Current\n",
    "# Bid after 2 matches, total bids = 959, mean = 149.20689655172413, min = -225.0, max = 471.0\n",
    "# Bid after 3 matches, total bids = 495, mean = 97.89655172413794, min = -112.0, max = 266.0\n",
    "# Bid after 4 matches, total bids = 248, mean = 29.344827586206897, min = -51.0, max = 121.0\n",
    "# Bid after 5 matches, total bids = 108, mean = 8.655172413793103, min = -54.0, max = 50.0\n",
    "# Bid after 6 matches, total bids = 45, mean = 8.586206896551724, min = -8.0, max = 24.0\n",
    "# Bid after 7 matches, total bids = 18, mean = 5.448275862068965, min = 0.0, max = 12.0\n",
    "# Bid after 8 matches, total bids = 14, mean = 3.1724137931034484, min = -3.0, max = 8.0\n",
    "# Bid after 9 matches, total bids = 6, mean = 1.9655172413793103, min = 0.0, max = 5.0"
   ]
  },
  {
   "cell_type": "code",
   "execution_count": null,
   "metadata": {
    "scrolled": true
   },
   "outputs": [],
   "source": [
    "bid_mean_c_m = []\n",
    "bid_sum_c_m = []\n",
    "ret_sum_c_m = []\n",
    "ret_max_mean_c_m = []\n",
    "ret_min_mean_c_m = []\n",
    "ret_min_min_c_m = []\n",
    "ret_turnover_mean_c_m = []\n",
    "\n",
    "ret_min_8 = []\n",
    "ret_min_16 = []\n",
    "ret_min_32 = []\n",
    "ret_min_64 = []\n",
    "ret_min_128 = []\n",
    "\n",
    "for i in range(0, 8):\n",
    "    bid_tmp = pd.Series(bid_strat_thresh_c_m[i]).mean()\n",
    "    bid_sum_tmp = pd.Series(bid_strat_thresh_c_m[i]).sum()\n",
    "    ret_tmp = pd.Series(ret_strat_thresh_c_m[i]).sum()\n",
    "    ret_max_tmp = pd.Series(ret_max_thresh_c_m[i]).mean()\n",
    "    ret_min_tmp = pd.Series(ret_min_thresh_c_m[i]).mean()\n",
    "    ret_min_min_tmp = pd.Series(ret_min_thresh_c_m[i]).min()\n",
    "    ret_turnover_tmp =pd.Series(ret_turnover_thresh_c_m[i]).mean() \n",
    "    \n",
    "    ret_min_8_tmp = pd.Series(ret_min_thresh_c_m[i]).where(pd.Series(ret_min_thresh_c_m[i]) == -8).value_counts().values\n",
    "    ret_min_16_tmp = pd.Series(ret_min_thresh_c_m[i]).where(pd.Series(ret_min_thresh_c_m[i]) == -16).value_counts().values\n",
    "    ret_min_32_tmp = pd.Series(ret_min_thresh_c_m[i]).where(pd.Series(ret_min_thresh_c_m[i]) == -32).value_counts().values\n",
    "    ret_min_64_tmp = pd.Series(ret_min_thresh_c_m[i]).where(pd.Series(ret_min_thresh_c_m[i]) == -64).value_counts().values\n",
    "    ret_min_128_tmp = pd.Series(ret_min_thresh_c_m[i]).where(pd.Series(ret_min_thresh_c_m[i]) == -128).value_counts().values\n",
    "    \n",
    "    bid_mean_c_m.append(bid_tmp)\n",
    "    bid_sum_c_m.append(bid_sum_tmp)\n",
    "    ret_sum_c_m.append(ret_tmp)\n",
    "    ret_max_mean_c_m.append(ret_max_tmp)\n",
    "    ret_min_mean_c_m.append(ret_min_tmp)\n",
    "    ret_min_min_c_m.append(ret_min_min_tmp)\n",
    "    ret_turnover_mean_c_m.append(ret_turnover_tmp)\n",
    "    \n",
    "    ret_min_8.append(ret_min_8_tmp)\n",
    "    ret_min_16.append(ret_min_16_tmp)\n",
    "    ret_min_32.append(ret_min_32_tmp)\n",
    "    ret_min_64.append(ret_min_64_tmp)\n",
    "    ret_min_128.append(ret_min_128_tmp)\n",
    "    "
   ]
  },
  {
   "cell_type": "code",
   "execution_count": null,
   "metadata": {
    "scrolled": true
   },
   "outputs": [],
   "source": [
    "df_c_m_summary = pd.DataFrame({'threshold' : range(2, 10), 'bid_mean' : bid_mean_c_m, 'bid_sum' : bid_sum_c_m, 'ret_sum' : ret_sum_c_m, 'ret_max_mean' : ret_max_mean_c_m,\n",
    "                          'ret_min_mean' : ret_min_mean_c_m, 'ret_min_min' : ret_min_min_c_m, 'ret_turnover_mean' : ret_turnover_mean_c_m,\n",
    "                          'ret_min_8' : ret_min_8, 'ret_min_16' : ret_min_16, 'ret_min_32' : ret_min_32,\n",
    "                          'ret_min_64' : ret_min_64, 'ret_min_128' : ret_min_128}) #'threshold' : range(2, 10), "
   ]
  },
  {
   "cell_type": "code",
   "execution_count": null,
   "metadata": {
    "scrolled": true
   },
   "outputs": [],
   "source": [
    "#history\n",
    "df_c_m_summary"
   ]
  },
  {
   "cell_type": "code",
   "execution_count": null,
   "metadata": {
    "scrolled": true
   },
   "outputs": [],
   "source": [
    "#current\n",
    "df_c_m_summary"
   ]
  },
  {
   "cell_type": "markdown",
   "metadata": {},
   "source": [
    "### Tailgate momentum"
   ]
  },
  {
   "cell_type": "code",
   "execution_count": 192,
   "metadata": {},
   "outputs": [],
   "source": [
    "bid_strat_thresh_c_m = []\n",
    "ret_strat_thresh_c_m = []\n",
    "ret_max_thresh_c_m = []\n",
    "ret_min_thresh_c_m = []\n",
    "ret_turnover_thresh_c_m = []\n",
    "ret_cum_c_m = []\n",
    "plt_cum_c_m = []\n",
    "ret_cum_c_m_list = []"
   ]
  },
  {
   "cell_type": "code",
   "execution_count": 193,
   "metadata": {
    "scrolled": true
   },
   "outputs": [
    {
     "data": {
      "image/png": "[encoded data removed]",
      "text/plain": [
       "<Figure size 432x288 with 1 Axes>"
      ]
     },
     "metadata": {},
     "output_type": "display_data"
    }
   ],
   "source": [
    "# for threshold in [3]:\n",
    "# for threshold in list(range(2, 10)):\n",
    "team_strat_list_c_m = []\n",
    "bid_strat_list_c_m = []\n",
    "ret_strat_list_c_m = []\n",
    "ret_max_c_m = []\n",
    "ret_min_c_m = []\n",
    "ret_turnover_c_m = []\n",
    "df_ret_cum = pd.DataFrame({'primer' : [np.NaN] * 500})\n",
    "\n",
    "#     for team in ['Dortmund']: #Duisburg\n",
    "for team in s['Team'].unique():\n",
    "    s_c_m = s['result_ha_hdc'].loc[s['Team'] == team].dropna()\n",
    "    s_c_m_t = s_c_m == s_c_m.shift()\n",
    "    s_c_m_t = s_c_m_t[1:]\n",
    "    # mark the blocks ending with True\n",
    "    blocks = s_c_m_t.shift(fill_value=0).cumsum()\n",
    "    # compute the positions within blocks and raise to power 2\n",
    "    powers = 2**s_c_m_t.groupby(blocks).cumcount()\n",
    "    #output:\n",
    "    s_c_m_t_ret = np.where(s_c_m_t, 1,-1)*powers.values\n",
    "    s_c_m_t_ret = np.append(0, s_c_m_t_ret)\n",
    "#     df_c_m_t = pd.DataFrame({'current' : s_c_m.to_list(), 'shift' : s_c_m.shift().to_list(), 'return' : s_c_m_t_ret})\n",
    "\n",
    "#     df_ret_cum_tmp = pd.DataFrame()\n",
    "#     df_ret_cum_tmp.loc[:, team] = df_c_m_t['return']\n",
    "#     df_ret_cum_tmp = df_ret_cum_tmp.reset_index(drop = True)\n",
    "    df_ret_cum[team] = pd.Series(s_c_m_t_ret)\n",
    "#     df_ret_cum[team] = df_ret_cum_tmp[team]\n",
    "\n",
    "    team_strat_list_c_m.append(team)\n",
    "\n",
    "    bid_strat_tmp = pd.Series(s_c_m_t_ret).count()\n",
    "    bid_strat_list_c_m.append(bid_strat_tmp)\n",
    "\n",
    "    ret_strat_tmp = pd.Series(s_c_m_t_ret).sum()\n",
    "    ret_strat_list_c_m.append(ret_strat_tmp)\n",
    "\n",
    "    ret_max_tmp = pd.Series(s_c_m_t_ret).max()\n",
    "    ret_max_c_m.append(ret_max_tmp)\n",
    "\n",
    "    ret_min_tmp = pd.Series(s_c_m_t_ret).min()\n",
    "    ret_min_c_m.append(ret_min_tmp)\n",
    "\n",
    "    if pd.notna(pd.Series(s_c_m_t_ret)).sum() == 0:\n",
    "        ret_turnover_tmp = np.NaN\n",
    "    else:\n",
    "        ret_turnover_tmp = pd.Series(s_c_m_t_ret).where(pd.Series(s_c_m_t_ret) < 0).count()\n",
    "    ret_turnover_c_m.append(ret_turnover_tmp)\n",
    "  \n",
    "    \n",
    "bid_strat_thresh_c_m.append(bid_strat_list_c_m)\n",
    "ret_strat_thresh_c_m.append(ret_strat_list_c_m)\n",
    "ret_max_thresh_c_m.append(ret_max_c_m)\n",
    "ret_min_thresh_c_m.append(ret_min_c_m)\n",
    "ret_turnover_thresh_c_m.append(ret_turnover_c_m)\n",
    "\n",
    "df_ret_cum = df_ret_cum.dropna(how = 'all').dropna(axis = 1, how = 'all')\n",
    "\n",
    "ret_cum_c_m_tmp = df_ret_cum.sum(axis = 1).cumsum().describe()\n",
    "ret_cum_c_m.append(ret_cum_c_m_tmp)\n",
    "ret_cum_c_m_l_tmp = df_ret_cum.sum(axis = 1).cumsum()\n",
    "ret_cum_c_m_list.append(ret_cum_c_m_l_tmp)\n",
    "\n",
    "plt_cum_c_r_tmp = df_ret_cum.sum(axis=1).cumsum().plot()\n",
    "plt_cum_c_r.append(plt_cum_c_r_tmp)"
   ]
  },
  {
   "cell_type": "code",
   "execution_count": 200,
   "metadata": {},
   "outputs": [
    {
     "data": {
      "text/plain": [
       "0          0.0\n",
       "1         18.0\n",
       "2          3.0\n",
       "3        -15.0\n",
       "4         12.0\n",
       "        ...   \n",
       "477    21434.0\n",
       "478    21431.0\n",
       "479    21425.0\n",
       "480    21442.0\n",
       "481    21439.0\n",
       "Length: 482, dtype: float64"
      ]
     },
     "execution_count": 200,
     "metadata": {},
     "output_type": "execute_result"
    }
   ],
   "source": [
    "df_ret_cum.sum(axis=1).cumsum()"
   ]
  },
  {
   "cell_type": "code",
   "execution_count": 195,
   "metadata": {},
   "outputs": [
    {
     "data": {
      "text/plain": [
       "200       74.0\n",
       "201       15.0\n",
       "202       -2.0\n",
       "203      -84.0\n",
       "204     -167.0\n",
       "205      -95.0\n",
       "206     -292.0\n",
       "207     -573.0\n",
       "208    -1206.0\n",
       "209    -2521.0\n",
       "210    -2988.0\n",
       "211    -8451.0\n",
       "212   -15869.0\n",
       "213    32850.0\n",
       "214      -34.0\n",
       "215       48.0\n",
       "216      134.0\n",
       "217      -87.0\n",
       "218       72.0\n",
       "219      -41.0\n",
       "dtype: float64"
      ]
     },
     "execution_count": 195,
     "metadata": {},
     "output_type": "execute_result"
    }
   ],
   "source": [
    "df_ret_cum[200:220].sum(axis = 1)"
   ]
  },
  {
   "cell_type": "code",
   "execution_count": null,
   "metadata": {},
   "outputs": [],
   "source": [
    "df_ret_cum.to_csv(root_dir + '//tailgate_momentum.csv')"
   ]
  },
  {
   "cell_type": "code",
   "execution_count": null,
   "metadata": {},
   "outputs": [],
   "source": []
  },
  {
   "cell_type": "code",
   "execution_count": null,
   "metadata": {},
   "outputs": [],
   "source": [
    "#Index = 4: Momentum after 6 matches"
   ]
  },
  {
   "cell_type": "code",
   "execution_count": null,
   "metadata": {},
   "outputs": [],
   "source": [
    "# Add hedge\n",
    "# Trade by team win/loss stride: Bid (reversion) after some win/loss stride, if that stride is greater than some value (for example)\n",
    "# in the past, AND the value for longer stride is small enough.\n"
   ]
  }
 ],
 "metadata": {
  "kernelspec": {
   "display_name": "Python 3",
   "language": "python",
   "name": "python3"
  },
  "language_info": {
   "codemirror_mode": {
    "name": "ipython",
    "version": 3
   },
   "file_extension": ".py",
   "mimetype": "text/x-python",
   "name": "python",
   "nbconvert_exporter": "python",
   "pygments_lexer": "ipython3",
   "version": "3.7.6"
  }
 },
 "nbformat": 4,
 "nbformat_minor": 4
}
